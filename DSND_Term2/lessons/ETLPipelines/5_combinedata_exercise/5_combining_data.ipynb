{
 "cells": [
  {
   "cell_type": "markdown",
   "metadata": {},
   "source": [
    "# Combining Data\n",
    "\n",
    "Practice combining data from two different data sets. In the same folder as this Jupyter notebook, there are two csv files:\n",
    "* rural_population_percent.csv\n",
    "* electricity_access_percent.csv\n",
    "\n",
    "They both come from the World Bank Indicators data. \n",
    "* https://data.worldbank.org/indicator/SP.RUR.TOTL.ZS\n",
    "* https://data.worldbank.org/indicator/EG.ELC.ACCS.ZS\n",
    "\n",
    "The rural populaton data represents the percent of a country's population that is rural over time. The electricity access data shows the percentage of people with access to electricity.\n",
    "\n",
    "In this exercise, you will combine these two data sets together into one pandas data frame."
   ]
  },
  {
   "cell_type": "markdown",
   "metadata": {},
   "source": [
    "# Exercise 1\n",
    "\n",
    "Combine the two data sets using the [pandas concat method](https://pandas.pydata.org/pandas-docs/stable/merging.html). In other words, find the union of the two data sets."
   ]
  },
  {
   "cell_type": "code",
   "execution_count": 1,
   "metadata": {},
   "outputs": [],
   "source": [
    "# TODO: import the pandas library\n",
    "import pandas as pd\n",
    "# TODO: read in each csv file into a separate variable\n",
    "# HINT: remember from the Extract material that these csv file have some formatting issues\n",
    "# HINT: The file paths are 'rural_population_percent.csv' and 'electricity_access_percent.csv'\n",
    "df_rural = pd.read_csv('rural_population_percent.csv', skiprows=4)\n",
    "df_electricity = pd.read_csv('electricity_access_percent.csv', skiprows=4)\n",
    "\n",
    "# TODO: remove the 'Unnamed: 62' column from each data set\n",
    "df_rural.drop('Unnamed: 62', axis=1, inplace=True)\n",
    "df_electricity.drop('Unnamed: 62', axis=1, inplace=True)\n",
    "# TODO: combine the two data sets together using the concat method"
   ]
  },
  {
   "cell_type": "code",
   "execution_count": 2,
   "metadata": {
    "scrolled": true
   },
   "outputs": [
    {
     "data": {
      "text/html": [
       "<div>\n",
       "<style scoped>\n",
       "    .dataframe tbody tr th:only-of-type {\n",
       "        vertical-align: middle;\n",
       "    }\n",
       "\n",
       "    .dataframe tbody tr th {\n",
       "        vertical-align: top;\n",
       "    }\n",
       "\n",
       "    .dataframe thead th {\n",
       "        text-align: right;\n",
       "    }\n",
       "</style>\n",
       "<table border=\"1\" class=\"dataframe\">\n",
       "  <thead>\n",
       "    <tr style=\"text-align: right;\">\n",
       "      <th></th>\n",
       "      <th>Country Name</th>\n",
       "      <th>Country Code</th>\n",
       "      <th>Indicator Name</th>\n",
       "      <th>Indicator Code</th>\n",
       "      <th>1960</th>\n",
       "      <th>1961</th>\n",
       "      <th>1962</th>\n",
       "      <th>1963</th>\n",
       "      <th>1964</th>\n",
       "      <th>1965</th>\n",
       "      <th>...</th>\n",
       "      <th>2008</th>\n",
       "      <th>2009</th>\n",
       "      <th>2010</th>\n",
       "      <th>2011</th>\n",
       "      <th>2012</th>\n",
       "      <th>2013</th>\n",
       "      <th>2014</th>\n",
       "      <th>2015</th>\n",
       "      <th>2016</th>\n",
       "      <th>2017</th>\n",
       "    </tr>\n",
       "  </thead>\n",
       "  <tbody>\n",
       "    <tr>\n",
       "      <th>0</th>\n",
       "      <td>Aruba</td>\n",
       "      <td>ABW</td>\n",
       "      <td>Rural population (% of total population)</td>\n",
       "      <td>SP.RUR.TOTL.ZS</td>\n",
       "      <td>49.224</td>\n",
       "      <td>49.239</td>\n",
       "      <td>49.254</td>\n",
       "      <td>49.27</td>\n",
       "      <td>49.285</td>\n",
       "      <td>49.30</td>\n",
       "      <td>...</td>\n",
       "      <td>56.217</td>\n",
       "      <td>56.579</td>\n",
       "      <td>56.941</td>\n",
       "      <td>57.302</td>\n",
       "      <td>57.636</td>\n",
       "      <td>57.942</td>\n",
       "      <td>58.221</td>\n",
       "      <td>58.472</td>\n",
       "      <td>58.696</td>\n",
       "      <td>58.893</td>\n",
       "    </tr>\n",
       "    <tr>\n",
       "      <th>1</th>\n",
       "      <td>Afghanistan</td>\n",
       "      <td>AFG</td>\n",
       "      <td>Rural population (% of total population)</td>\n",
       "      <td>SP.RUR.TOTL.ZS</td>\n",
       "      <td>91.779</td>\n",
       "      <td>91.492</td>\n",
       "      <td>91.195</td>\n",
       "      <td>90.89</td>\n",
       "      <td>90.574</td>\n",
       "      <td>90.25</td>\n",
       "      <td>...</td>\n",
       "      <td>76.054</td>\n",
       "      <td>75.687</td>\n",
       "      <td>75.311</td>\n",
       "      <td>74.926</td>\n",
       "      <td>74.532</td>\n",
       "      <td>74.129</td>\n",
       "      <td>73.718</td>\n",
       "      <td>73.297</td>\n",
       "      <td>72.868</td>\n",
       "      <td>72.430</td>\n",
       "    </tr>\n",
       "  </tbody>\n",
       "</table>\n",
       "<p>2 rows × 62 columns</p>\n",
       "</div>"
      ],
      "text/plain": [
       "  Country Name Country Code                            Indicator Name  \\\n",
       "0        Aruba          ABW  Rural population (% of total population)   \n",
       "1  Afghanistan          AFG  Rural population (% of total population)   \n",
       "\n",
       "   Indicator Code    1960    1961    1962   1963    1964   1965  ...    2008  \\\n",
       "0  SP.RUR.TOTL.ZS  49.224  49.239  49.254  49.27  49.285  49.30  ...  56.217   \n",
       "1  SP.RUR.TOTL.ZS  91.779  91.492  91.195  90.89  90.574  90.25  ...  76.054   \n",
       "\n",
       "     2009    2010    2011    2012    2013    2014    2015    2016    2017  \n",
       "0  56.579  56.941  57.302  57.636  57.942  58.221  58.472  58.696  58.893  \n",
       "1  75.687  75.311  74.926  74.532  74.129  73.718  73.297  72.868  72.430  \n",
       "\n",
       "[2 rows x 62 columns]"
      ]
     },
     "execution_count": 2,
     "metadata": {},
     "output_type": "execute_result"
    }
   ],
   "source": [
    "df_rural.head(2)"
   ]
  },
  {
   "cell_type": "code",
   "execution_count": 3,
   "metadata": {},
   "outputs": [
    {
     "data": {
      "text/plain": [
       "(264, 62)"
      ]
     },
     "execution_count": 3,
     "metadata": {},
     "output_type": "execute_result"
    }
   ],
   "source": [
    "df_rural.shape"
   ]
  },
  {
   "cell_type": "code",
   "execution_count": 4,
   "metadata": {},
   "outputs": [
    {
     "data": {
      "text/html": [
       "<div>\n",
       "<style scoped>\n",
       "    .dataframe tbody tr th:only-of-type {\n",
       "        vertical-align: middle;\n",
       "    }\n",
       "\n",
       "    .dataframe tbody tr th {\n",
       "        vertical-align: top;\n",
       "    }\n",
       "\n",
       "    .dataframe thead th {\n",
       "        text-align: right;\n",
       "    }\n",
       "</style>\n",
       "<table border=\"1\" class=\"dataframe\">\n",
       "  <thead>\n",
       "    <tr style=\"text-align: right;\">\n",
       "      <th></th>\n",
       "      <th>Country Name</th>\n",
       "      <th>Country Code</th>\n",
       "      <th>Indicator Name</th>\n",
       "      <th>Indicator Code</th>\n",
       "      <th>1960</th>\n",
       "      <th>1961</th>\n",
       "      <th>1962</th>\n",
       "      <th>1963</th>\n",
       "      <th>1964</th>\n",
       "      <th>1965</th>\n",
       "      <th>...</th>\n",
       "      <th>2008</th>\n",
       "      <th>2009</th>\n",
       "      <th>2010</th>\n",
       "      <th>2011</th>\n",
       "      <th>2012</th>\n",
       "      <th>2013</th>\n",
       "      <th>2014</th>\n",
       "      <th>2015</th>\n",
       "      <th>2016</th>\n",
       "      <th>2017</th>\n",
       "    </tr>\n",
       "  </thead>\n",
       "  <tbody>\n",
       "    <tr>\n",
       "      <th>0</th>\n",
       "      <td>Aruba</td>\n",
       "      <td>ABW</td>\n",
       "      <td>Access to electricity (% of population)</td>\n",
       "      <td>EG.ELC.ACCS.ZS</td>\n",
       "      <td>NaN</td>\n",
       "      <td>NaN</td>\n",
       "      <td>NaN</td>\n",
       "      <td>NaN</td>\n",
       "      <td>NaN</td>\n",
       "      <td>NaN</td>\n",
       "      <td>...</td>\n",
       "      <td>93.086166</td>\n",
       "      <td>93.354546</td>\n",
       "      <td>93.356292</td>\n",
       "      <td>93.942375</td>\n",
       "      <td>94.255814</td>\n",
       "      <td>94.578262</td>\n",
       "      <td>94.906723</td>\n",
       "      <td>95.238182</td>\n",
       "      <td>95.570145</td>\n",
       "      <td>NaN</td>\n",
       "    </tr>\n",
       "    <tr>\n",
       "      <th>1</th>\n",
       "      <td>Afghanistan</td>\n",
       "      <td>AFG</td>\n",
       "      <td>Access to electricity (% of population)</td>\n",
       "      <td>EG.ELC.ACCS.ZS</td>\n",
       "      <td>NaN</td>\n",
       "      <td>NaN</td>\n",
       "      <td>NaN</td>\n",
       "      <td>NaN</td>\n",
       "      <td>NaN</td>\n",
       "      <td>NaN</td>\n",
       "      <td>...</td>\n",
       "      <td>42.400000</td>\n",
       "      <td>44.854885</td>\n",
       "      <td>42.700000</td>\n",
       "      <td>43.222019</td>\n",
       "      <td>69.100000</td>\n",
       "      <td>67.259552</td>\n",
       "      <td>89.500000</td>\n",
       "      <td>71.500000</td>\n",
       "      <td>84.137138</td>\n",
       "      <td>NaN</td>\n",
       "    </tr>\n",
       "  </tbody>\n",
       "</table>\n",
       "<p>2 rows × 62 columns</p>\n",
       "</div>"
      ],
      "text/plain": [
       "  Country Name Country Code                           Indicator Name  \\\n",
       "0        Aruba          ABW  Access to electricity (% of population)   \n",
       "1  Afghanistan          AFG  Access to electricity (% of population)   \n",
       "\n",
       "   Indicator Code  1960  1961  1962  1963  1964  1965  ...       2008  \\\n",
       "0  EG.ELC.ACCS.ZS   NaN   NaN   NaN   NaN   NaN   NaN  ...  93.086166   \n",
       "1  EG.ELC.ACCS.ZS   NaN   NaN   NaN   NaN   NaN   NaN  ...  42.400000   \n",
       "\n",
       "        2009       2010       2011       2012       2013       2014  \\\n",
       "0  93.354546  93.356292  93.942375  94.255814  94.578262  94.906723   \n",
       "1  44.854885  42.700000  43.222019  69.100000  67.259552  89.500000   \n",
       "\n",
       "        2015       2016  2017  \n",
       "0  95.238182  95.570145   NaN  \n",
       "1  71.500000  84.137138   NaN  \n",
       "\n",
       "[2 rows x 62 columns]"
      ]
     },
     "execution_count": 4,
     "metadata": {},
     "output_type": "execute_result"
    }
   ],
   "source": [
    "df_electricity.head(2)"
   ]
  },
  {
   "cell_type": "code",
   "execution_count": 5,
   "metadata": {},
   "outputs": [
    {
     "data": {
      "text/plain": [
       "(264, 62)"
      ]
     },
     "execution_count": 5,
     "metadata": {},
     "output_type": "execute_result"
    }
   ],
   "source": [
    "df_electricity.shape"
   ]
  },
  {
   "cell_type": "code",
   "execution_count": 6,
   "metadata": {},
   "outputs": [
    {
     "data": {
      "text/plain": [
       "(528, 62)"
      ]
     },
     "execution_count": 6,
     "metadata": {},
     "output_type": "execute_result"
    }
   ],
   "source": [
    "df = pd.concat([df_rural, df_electricity], axis=0)\n",
    "df.shape"
   ]
  },
  {
   "cell_type": "markdown",
   "metadata": {},
   "source": [
    "# Exercise 2 (Challenge)\n",
    "\n",
    "This exercise is more challenging.\n",
    "\n",
    "The resulting data frame should look like this:\n",
    "\n",
    "|Country Name|Country Code|Year|Rural_Value|Electricity_Value|\n",
    "|--|--|--|--|--|--|\n",
    "|Aruba|ABW|1960|49.224|49.239|\n",
    "... etc.\n",
    "\n",
    "Order the results in the dataframe by country and then by year\n",
    "\n",
    "Here are a few pandas methods that should be helpful:\n",
    "* [melt](http://pandas.pydata.org/pandas-docs/stable/generated/pandas.melt.html)\n",
    "* [drop](https://pandas.pydata.org/pandas-docs/stable/generated/pandas.DataFrame.drop.html)\n",
    "* [merge](https://pandas.pydata.org/pandas-docs/version/0.23/generated/pandas.DataFrame.merge.html)\n",
    "* [sort_values](https://pandas.pydata.org/pandas-docs/stable/generated/pandas.DataFrame.sort_values.html)\n",
    "\n",
    "HINT: You can use country name, country code, and the year as common keys between the data sets"
   ]
  },
  {
   "cell_type": "code",
   "execution_count": 7,
   "metadata": {},
   "outputs": [
    {
     "name": "stdout",
     "output_type": "stream",
     "text": [
      "  Country Name Country Code  Year  Rural_Value\n",
      "0        Aruba          ABW  1960       49.224\n",
      "1  Afghanistan          AFG  1960       91.779\n",
      "2       Angola          AGO  1960       89.565\n",
      "3      Albania          ALB  1960       69.295\n",
      "4      Andorra          AND  1960       41.550 \n",
      "   Country Name Country Code  Year  Electricity_Value\n",
      "0        Aruba          ABW  1960                NaN\n",
      "1  Afghanistan          AFG  1960                NaN\n",
      "2       Angola          AGO  1960                NaN\n",
      "3      Albania          ALB  1960                NaN\n",
      "4      Andorra          AND  1960                NaN\n"
     ]
    }
   ],
   "source": [
    "# TODO: merge the data sets together according to the instructions. First, use the \n",
    "# melt method to change the formatting of each data frame so that it looks like this:\n",
    "# Country Name, Country Code, Year, Rural Value\n",
    "# Country Name, Country Code, Year, Electricity Value\n",
    "df_rural_melted = pd.melt(df_rural, id_vars=['Country Name', 'Country Code'], value_vars=(df_rural.columns.drop(\n",
    "    ['Country Name', 'Country Code', 'Indicator Name', 'Indicator Code']).values), var_name='Year', \n",
    "                          value_name='Rural_Value')\n",
    "\n",
    "df_electricity_melted = pd.melt(df_electricity, id_vars=['Country Name', 'Country Code'], value_vars=(\n",
    "    df_electricity.columns.drop(['Country Name', 'Country Code', 'Indicator Name', 'Indicator Code']).values), var_name='Year',\n",
    "                               value_name='Electricity_Value')\n",
    "# TODO: drop any columns from the data frames that aren't needed\n",
    "\n",
    "# TODO: merge the data frames together based on their common columns\n",
    "# in this case, the common columns are Country Name, Country Code, and Year\n",
    "\n",
    "# TODO: sort the results by country and then by year\n",
    "\n",
    "print(df_rural_melted.head(), '\\n', df_electricity_melted.head())"
   ]
  },
  {
   "cell_type": "code",
   "execution_count": 8,
   "metadata": {},
   "outputs": [
    {
     "data": {
      "text/html": [
       "<div>\n",
       "<style scoped>\n",
       "    .dataframe tbody tr th:only-of-type {\n",
       "        vertical-align: middle;\n",
       "    }\n",
       "\n",
       "    .dataframe tbody tr th {\n",
       "        vertical-align: top;\n",
       "    }\n",
       "\n",
       "    .dataframe thead th {\n",
       "        text-align: right;\n",
       "    }\n",
       "</style>\n",
       "<table border=\"1\" class=\"dataframe\">\n",
       "  <thead>\n",
       "    <tr style=\"text-align: right;\">\n",
       "      <th></th>\n",
       "      <th>Country Name</th>\n",
       "      <th>Country Code</th>\n",
       "      <th>Year</th>\n",
       "      <th>Rural_Value</th>\n",
       "      <th>Electricity_Value</th>\n",
       "    </tr>\n",
       "  </thead>\n",
       "  <tbody>\n",
       "    <tr>\n",
       "      <th>0</th>\n",
       "      <td>Afghanistan</td>\n",
       "      <td>AFG</td>\n",
       "      <td>1960</td>\n",
       "      <td>91.779</td>\n",
       "      <td>NaN</td>\n",
       "    </tr>\n",
       "    <tr>\n",
       "      <th>1</th>\n",
       "      <td>Afghanistan</td>\n",
       "      <td>AFG</td>\n",
       "      <td>1961</td>\n",
       "      <td>91.492</td>\n",
       "      <td>NaN</td>\n",
       "    </tr>\n",
       "    <tr>\n",
       "      <th>2</th>\n",
       "      <td>Afghanistan</td>\n",
       "      <td>AFG</td>\n",
       "      <td>1962</td>\n",
       "      <td>91.195</td>\n",
       "      <td>NaN</td>\n",
       "    </tr>\n",
       "    <tr>\n",
       "      <th>3</th>\n",
       "      <td>Afghanistan</td>\n",
       "      <td>AFG</td>\n",
       "      <td>1963</td>\n",
       "      <td>90.890</td>\n",
       "      <td>NaN</td>\n",
       "    </tr>\n",
       "    <tr>\n",
       "      <th>4</th>\n",
       "      <td>Afghanistan</td>\n",
       "      <td>AFG</td>\n",
       "      <td>1964</td>\n",
       "      <td>90.574</td>\n",
       "      <td>NaN</td>\n",
       "    </tr>\n",
       "  </tbody>\n",
       "</table>\n",
       "</div>"
      ],
      "text/plain": [
       "  Country Name Country Code  Year  Rural_Value  Electricity_Value\n",
       "0  Afghanistan          AFG  1960       91.779                NaN\n",
       "1  Afghanistan          AFG  1961       91.492                NaN\n",
       "2  Afghanistan          AFG  1962       91.195                NaN\n",
       "3  Afghanistan          AFG  1963       90.890                NaN\n",
       "4  Afghanistan          AFG  1964       90.574                NaN"
      ]
     },
     "execution_count": 8,
     "metadata": {},
     "output_type": "execute_result"
    }
   ],
   "source": [
    "df_combined = df_rural_melted.merge(df_electricity_melted, how='outer', on=['Country Name', 'Country Code', 'Year'])\n",
    "df_combined.sort_values(by=['Country Name', 'Year'], ascending=True, inplace=True, ignore_index=True)\n",
    "\n",
    "df_combined.head()"
   ]
  }
 ],
 "metadata": {
  "kernelspec": {
   "display_name": "Python 3",
   "language": "python",
   "name": "python3"
  },
  "language_info": {
   "codemirror_mode": {
    "name": "ipython",
    "version": 3
   },
   "file_extension": ".py",
   "mimetype": "text/x-python",
   "name": "python",
   "nbconvert_exporter": "python",
   "pygments_lexer": "ipython3",
   "version": "3.7.6"
  }
 },
 "nbformat": 4,
 "nbformat_minor": 2
}
