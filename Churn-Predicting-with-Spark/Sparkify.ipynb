{
 "cells": [
  {
   "cell_type": "markdown",
   "metadata": {},
   "source": [
    "# Overview \n",
    "Sparkify is a music streaming service just as Spotify and Pandora.\n",
    "\n",
    "The data provided is the user log of the service, having demographic info, user activities, timestamps and etc. We try to analyze the log and build a model to identify customers who are highly likely to quit using our service, and thus, send marketing offers to them to prevent them from churning.\n",
    "\n",
    "We use F1 score to measure of model performance because we need precision and recall at the same time as we don't want to miss too many customers who are likely to churn whilst we don't want to waste too much on those who are not likely to churn.\n",
    "\n",
    "We performed EDA to establish features, and train several machine learning classification models.\n",
    "\n",
    "The model we built and selected has a F1 score of 0.800, which is 16% higher than sending everybody offers. There is also a short article about this project posted here.\n",
    "\n",
    "The problem that I will attempt to solve will be to predict customer churn in advance and I will be using spark (PySpark) and the Gradient boosting models classification."
   ]
  },
  {
   "cell_type": "code",
   "execution_count": 1,
   "metadata": {},
   "outputs": [],
   "source": [
    "# Import libraries\n",
    "from pyspark.sql import SparkSession\n",
    "\n",
    "import numpy as np\n",
    "import pandas as pd\n",
    "import math\n",
    "import datetime\n",
    "import re\n",
    "\n",
    "import matplotlib.pyplot as plt\n",
    "import seaborn as sns\n",
    "\n",
    "from pyspark.sql.functions import isnan, when, count, col\n",
    "from pyspark.sql.functions import udf\n",
    "from pyspark.sql.types import IntegerType\n",
    "\n",
    "from pyspark.ml.feature import StringIndexer, OneHotEncoderEstimator, VectorAssembler\n",
    "from pyspark.ml import Pipeline\n",
    "from pyspark.ml.classification import RandomForestClassifier\n",
    "from pyspark.ml.classification import LogisticRegression, GBTClassifier, NaiveBayes\n",
    "from pyspark.ml.evaluation import BinaryClassificationEvaluator, MulticlassClassificationEvaluator\n",
    "from pyspark.mllib.evaluation import BinaryClassificationMetrics, MulticlassMetrics\n",
    "from pyspark.ml.tuning import CrossValidator, ParamGridBuilder"
   ]
  },
  {
   "cell_type": "code",
   "execution_count": 2,
   "metadata": {},
   "outputs": [],
   "source": [
    "# Create a Spark session\n",
    "spark = SparkSession.builder.appName('Sparkify').getOrCreate()"
   ]
  },
  {
   "cell_type": "markdown",
   "metadata": {},
   "source": [
    "# Load and Clean Dataset"
   ]
  },
  {
   "cell_type": "code",
   "execution_count": 3,
   "metadata": {},
   "outputs": [],
   "source": [
    "# Load the data and check the schema\n",
    "path = 'mini_sparkify_event_data.json'\n",
    "df = spark.read.json(path)"
   ]
  },
  {
   "cell_type": "code",
   "execution_count": 4,
   "metadata": {},
   "outputs": [
    {
     "name": "stdout",
     "output_type": "stream",
     "text": [
      "root\n",
      " |-- artist: string (nullable = true)\n",
      " |-- auth: string (nullable = true)\n",
      " |-- firstName: string (nullable = true)\n",
      " |-- gender: string (nullable = true)\n",
      " |-- itemInSession: long (nullable = true)\n",
      " |-- lastName: string (nullable = true)\n",
      " |-- length: double (nullable = true)\n",
      " |-- level: string (nullable = true)\n",
      " |-- location: string (nullable = true)\n",
      " |-- method: string (nullable = true)\n",
      " |-- page: string (nullable = true)\n",
      " |-- registration: long (nullable = true)\n",
      " |-- sessionId: long (nullable = true)\n",
      " |-- song: string (nullable = true)\n",
      " |-- status: long (nullable = true)\n",
      " |-- ts: long (nullable = true)\n",
      " |-- userAgent: string (nullable = true)\n",
      " |-- userId: string (nullable = true)\n",
      "\n"
     ]
    }
   ],
   "source": [
    "df.printSchema()"
   ]
  },
  {
   "cell_type": "code",
   "execution_count": 5,
   "metadata": {},
   "outputs": [
    {
     "data": {
      "text/plain": [
       "Row(artist='Martha Tilston', auth='Logged In', firstName='Colin', gender='M', itemInSession=50, lastName='Freeman', length=277.89016, level='paid', location='Bakersfield, CA', method='PUT', page='NextSong', registration=1538173362000, sessionId=29, song='Rockpools', status=200, ts=1538352117000, userAgent='Mozilla/5.0 (Windows NT 6.1; WOW64; rv:31.0) Gecko/20100101 Firefox/31.0', userId='30')"
      ]
     },
     "execution_count": 5,
     "metadata": {},
     "output_type": "execute_result"
    }
   ],
   "source": [
    "df.head()"
   ]
  },
  {
   "cell_type": "code",
   "execution_count": 6,
   "metadata": {
    "scrolled": true
   },
   "outputs": [
    {
     "name": "stdout",
     "output_type": "stream",
     "text": [
      "+------+----+---------+------+-------------+--------+------+-----+--------+------+----+------------+---------+-----+------+---+---------+------+\n",
      "|artist|auth|firstName|gender|itemInSession|lastName|length|level|location|method|page|registration|sessionId| song|status| ts|userAgent|userId|\n",
      "+------+----+---------+------+-------------+--------+------+-----+--------+------+----+------------+---------+-----+------+---+---------+------+\n",
      "| 58392|   0|     8346|  8346|            0|    8346| 58392|    0|    8346|     0|   0|        8346|        0|58392|     0|  0|     8346|     0|\n",
      "+------+----+---------+------+-------------+--------+------+-----+--------+------+----+------------+---------+-----+------+---+---------+------+\n",
      "\n"
     ]
    }
   ],
   "source": [
    "# Check for missing values\n",
    "from pyspark.sql.functions import isnan, when, count, col\n",
    "\n",
    "df.select([count(when(isnan(c) | col(c).isNull(), c)).alias(c) for c in df.columns]).show()"
   ]
  },
  {
   "cell_type": "markdown",
   "metadata": {},
   "source": [
    "We can see that, the numbers of missing values in the columns of gender, firstName, lastName, registration, location, and userAgent are the same, which makes sense since these are related to the user information, but there is no missing values in the userID and sessionID columns which should have the similar number of missing values as they are also related to the user information, so further examinations on empty entries should be conducted. "
   ]
  },
  {
   "cell_type": "code",
   "execution_count": 7,
   "metadata": {},
   "outputs": [
    {
     "name": "stdout",
     "output_type": "stream",
     "text": [
      "+------+----------+---------+------+-------------+--------+------+-----+--------+------+-----+------------+---------+----+------+-------------+---------+------+\n",
      "|artist|      auth|firstName|gender|itemInSession|lastName|length|level|location|method| page|registration|sessionId|song|status|           ts|userAgent|userId|\n",
      "+------+----------+---------+------+-------------+--------+------+-----+--------+------+-----+------------+---------+----+------+-------------+---------+------+\n",
      "|  null|Logged Out|     null|  null|          100|    null|  null| free|    null|   GET| Home|        null|        8|null|   200|1538355745000|     null|      |\n",
      "|  null|Logged Out|     null|  null|          101|    null|  null| free|    null|   GET| Help|        null|        8|null|   200|1538355807000|     null|      |\n",
      "|  null|Logged Out|     null|  null|          102|    null|  null| free|    null|   GET| Home|        null|        8|null|   200|1538355841000|     null|      |\n",
      "|  null|Logged Out|     null|  null|          103|    null|  null| free|    null|   PUT|Login|        null|        8|null|   307|1538355842000|     null|      |\n",
      "|  null|Logged Out|     null|  null|            2|    null|  null| free|    null|   GET| Home|        null|      240|null|   200|1538356678000|     null|      |\n",
      "|  null|Logged Out|     null|  null|            3|    null|  null| free|    null|   PUT|Login|        null|      240|null|   307|1538356679000|     null|      |\n",
      "|  null|Logged Out|     null|  null|            0|    null|  null| free|    null|   PUT|Login|        null|      100|null|   307|1538358102000|     null|      |\n",
      "|  null|Logged Out|     null|  null|            0|    null|  null| free|    null|   PUT|Login|        null|      241|null|   307|1538360117000|     null|      |\n",
      "|  null|Logged Out|     null|  null|           14|    null|  null| free|    null|   GET| Home|        null|      187|null|   200|1538361527000|     null|      |\n",
      "|  null|Logged Out|     null|  null|           15|    null|  null| free|    null|   PUT|Login|        null|      187|null|   307|1538361528000|     null|      |\n",
      "+------+----------+---------+------+-------------+--------+------+-----+--------+------+-----+------------+---------+----+------+-------------+---------+------+\n",
      "only showing top 10 rows\n",
      "\n"
     ]
    }
   ],
   "source": [
    "# Check the columns with the same number of missing values\n",
    "df.select(df.columns).where(isnan('gender') | col('gender').isNull()).show(10)"
   ]
  },
  {
   "cell_type": "code",
   "execution_count": 8,
   "metadata": {},
   "outputs": [
    {
     "data": {
      "text/plain": [
       "0"
      ]
     },
     "execution_count": 8,
     "metadata": {},
     "output_type": "execute_result"
    }
   ],
   "source": [
    "df.filter(df['sessionId']=='').count()"
   ]
  },
  {
   "cell_type": "code",
   "execution_count": 9,
   "metadata": {},
   "outputs": [
    {
     "data": {
      "text/plain": [
       "8346"
      ]
     },
     "execution_count": 9,
     "metadata": {},
     "output_type": "execute_result"
    }
   ],
   "source": [
    "df.filter(df['userID']=='').count()"
   ]
  },
  {
   "cell_type": "markdown",
   "metadata": {},
   "source": [
    "The number of empty entries in the userID column is the same of those numbers of missing values. Since the empty userID entry may be a result from unlogged user, these rows are not significant for our further analysis, the next step will be removing the rows with empty entries in the userID column and check the missing values again."
   ]
  },
  {
   "cell_type": "code",
   "execution_count": 10,
   "metadata": {
    "scrolled": true
   },
   "outputs": [
    {
     "name": "stdout",
     "output_type": "stream",
     "text": [
      "+------+----+---------+------+-------------+--------+------+-----+--------+------+----+------------+---------+-----+------+---+---------+------+\n",
      "|artist|auth|firstName|gender|itemInSession|lastName|length|level|location|method|page|registration|sessionId| song|status| ts|userAgent|userId|\n",
      "+------+----+---------+------+-------------+--------+------+-----+--------+------+----+------------+---------+-----+------+---+---------+------+\n",
      "| 50046|   0|        0|     0|            0|       0| 50046|    0|       0|     0|   0|           0|        0|50046|     0|  0|        0|     0|\n",
      "+------+----+---------+------+-------------+--------+------+-----+--------+------+----+------------+---------+-----+------+---+---------+------+\n",
      "\n"
     ]
    }
   ],
   "source": [
    "df_clean = df.filter(df['userID']!='')\n",
    "\n",
    "df_clean.select([count(when(isnan(c) | col(c).isNull(), c)).alias(c) for c in df_clean.columns]).show()"
   ]
  },
  {
   "cell_type": "markdown",
   "metadata": {},
   "source": [
    "Now, we have no missing values in the columns related to user information. The missing values in the song-related information columns, including artist, length, and song, are reasonable as many events don't involve listening to a song and these can be treated as a feature later in the modeling, so we will keep these rows in the dataframe now."
   ]
  },
  {
   "cell_type": "code",
   "execution_count": 11,
   "metadata": {},
   "outputs": [
    {
     "name": "stdout",
     "output_type": "stream",
     "text": [
      "+----------+\n",
      "|      auth|\n",
      "+----------+\n",
      "|Logged Out|\n",
      "| Cancelled|\n",
      "|     Guest|\n",
      "| Logged In|\n",
      "+----------+\n",
      "\n",
      "+-----+\n",
      "|level|\n",
      "+-----+\n",
      "| free|\n",
      "| paid|\n",
      "+-----+\n",
      "\n",
      "+------+\n",
      "|method|\n",
      "+------+\n",
      "|   PUT|\n",
      "|   GET|\n",
      "+------+\n",
      "\n",
      "+--------------------+\n",
      "|                page|\n",
      "+--------------------+\n",
      "|              Cancel|\n",
      "|    Submit Downgrade|\n",
      "|         Thumbs Down|\n",
      "|                Home|\n",
      "|           Downgrade|\n",
      "|         Roll Advert|\n",
      "|              Logout|\n",
      "|       Save Settings|\n",
      "|Cancellation Conf...|\n",
      "|               About|\n",
      "| Submit Registration|\n",
      "|            Settings|\n",
      "|               Login|\n",
      "|            Register|\n",
      "|     Add to Playlist|\n",
      "|          Add Friend|\n",
      "|            NextSong|\n",
      "|           Thumbs Up|\n",
      "|                Help|\n",
      "|             Upgrade|\n",
      "+--------------------+\n",
      "only showing top 20 rows\n",
      "\n",
      "+------+\n",
      "|status|\n",
      "+------+\n",
      "|   307|\n",
      "|   404|\n",
      "|   200|\n",
      "+------+\n",
      "\n"
     ]
    },
    {
     "data": {
      "text/plain": [
       "(None, None)"
      ]
     },
     "execution_count": 11,
     "metadata": {},
     "output_type": "execute_result"
    }
   ],
   "source": [
    "# Check the unique values in the categorical columns\n",
    "df.select('auth').distinct().show(), df.select('level').distinct().show(), df.select('method').distinct().show(), \n",
    "df.select('page').distinct().show(), df.select('status').distinct().show()"
   ]
  },
  {
   "cell_type": "code",
   "execution_count": 12,
   "metadata": {},
   "outputs": [
    {
     "name": "stdout",
     "output_type": "stream",
     "text": [
      "+---------+\n",
      "|     auth|\n",
      "+---------+\n",
      "|Cancelled|\n",
      "|Logged In|\n",
      "+---------+\n",
      "\n",
      "+-----+\n",
      "|level|\n",
      "+-----+\n",
      "| free|\n",
      "| paid|\n",
      "+-----+\n",
      "\n",
      "+------+\n",
      "|method|\n",
      "+------+\n",
      "|   PUT|\n",
      "|   GET|\n",
      "+------+\n",
      "\n",
      "+--------------------+\n",
      "|                page|\n",
      "+--------------------+\n",
      "|              Cancel|\n",
      "|    Submit Downgrade|\n",
      "|         Thumbs Down|\n",
      "|                Home|\n",
      "|           Downgrade|\n",
      "|         Roll Advert|\n",
      "|              Logout|\n",
      "|       Save Settings|\n",
      "|Cancellation Conf...|\n",
      "|               About|\n",
      "|            Settings|\n",
      "|     Add to Playlist|\n",
      "|          Add Friend|\n",
      "|            NextSong|\n",
      "|           Thumbs Up|\n",
      "|                Help|\n",
      "|             Upgrade|\n",
      "|               Error|\n",
      "|      Submit Upgrade|\n",
      "+--------------------+\n",
      "\n",
      "+------+\n",
      "|status|\n",
      "+------+\n",
      "|   307|\n",
      "|   404|\n",
      "|   200|\n",
      "+------+\n",
      "\n"
     ]
    },
    {
     "data": {
      "text/plain": [
       "(None, None)"
      ]
     },
     "execution_count": 12,
     "metadata": {},
     "output_type": "execute_result"
    }
   ],
   "source": [
    "# Check the unique values in the categorical columns in the cleaned dataset\n",
    "df_clean.select('auth').distinct().show(), df_clean.select('level').distinct().show(), df_clean.select('method').distinct().show(), \n",
    "df_clean.select('page').distinct().show(), df_clean.select('status').distinct().show()"
   ]
  },
  {
   "cell_type": "markdown",
   "metadata": {},
   "source": [
    "It is interesting to see that after removing those rows with missing/empty values in userID, there less categeories in the columns of auth and page, which are Logged Out/Guest, and Login/Register/Submit Registration as expected. Only guests or those logged out don't have user information and logged-in users can't log in again or register for an account."
   ]
  },
  {
   "cell_type": "markdown",
   "metadata": {},
   "source": [
    "# Exploratory Data Analysis"
   ]
  },
  {
   "cell_type": "markdown",
   "metadata": {},
   "source": [
    "### Initial Analysis"
   ]
  },
  {
   "cell_type": "code",
   "execution_count": 13,
   "metadata": {},
   "outputs": [],
   "source": [
    "# Convert the ts and registration column to regular time format\n",
    "time_transfer = udf(lambda x: datetime.datetime.fromtimestamp(x / 1000).strftime('%Y-%m-%d %H:%M:%S'))\n",
    "df_clean = df_clean.withColumn('time', time_transfer(df['ts']))\n",
    "df_clean = df_clean.withColumn('registrationTime', time_transfer(df['registration']))"
   ]
  },
  {
   "cell_type": "code",
   "execution_count": 14,
   "metadata": {},
   "outputs": [
    {
     "data": {
      "text/plain": [
       "Row(artist='Martha Tilston', auth='Logged In', firstName='Colin', gender='M', itemInSession=50, lastName='Freeman', length=277.89016, level='paid', location='Bakersfield, CA', method='PUT', page='NextSong', registration=1538173362000, sessionId=29, song='Rockpools', status=200, ts=1538352117000, userAgent='Mozilla/5.0 (Windows NT 6.1; WOW64; rv:31.0) Gecko/20100101 Firefox/31.0', userId='30', time='2018-10-01 00:01:57', registrationTime='2018-09-28 22:22:42')"
      ]
     },
     "execution_count": 14,
     "metadata": {},
     "output_type": "execute_result"
    }
   ],
   "source": [
    "df_clean.head()"
   ]
  },
  {
   "cell_type": "code",
   "execution_count": 15,
   "metadata": {
    "scrolled": false
   },
   "outputs": [
    {
     "name": "stdout",
     "output_type": "stream",
     "text": [
      "root\n",
      " |-- artist: string (nullable = true)\n",
      " |-- auth: string (nullable = true)\n",
      " |-- firstName: string (nullable = true)\n",
      " |-- gender: string (nullable = true)\n",
      " |-- itemInSession: long (nullable = true)\n",
      " |-- lastName: string (nullable = true)\n",
      " |-- length: double (nullable = true)\n",
      " |-- level: string (nullable = true)\n",
      " |-- location: string (nullable = true)\n",
      " |-- method: string (nullable = true)\n",
      " |-- page: string (nullable = true)\n",
      " |-- registration: long (nullable = true)\n",
      " |-- sessionId: long (nullable = true)\n",
      " |-- song: string (nullable = true)\n",
      " |-- status: long (nullable = true)\n",
      " |-- ts: long (nullable = true)\n",
      " |-- userAgent: string (nullable = true)\n",
      " |-- userId: string (nullable = true)\n",
      " |-- time: string (nullable = true)\n",
      " |-- registrationTime: string (nullable = true)\n",
      "\n"
     ]
    }
   ],
   "source": [
    "df_clean.printSchema()"
   ]
  },
  {
   "cell_type": "code",
   "execution_count": 16,
   "metadata": {},
   "outputs": [
    {
     "data": {
      "text/plain": [
       "278154"
      ]
     },
     "execution_count": 16,
     "metadata": {},
     "output_type": "execute_result"
    }
   ],
   "source": [
    "df_clean.count()"
   ]
  },
  {
   "cell_type": "code",
   "execution_count": 17,
   "metadata": {},
   "outputs": [
    {
     "data": {
      "text/plain": [
       "225"
      ]
     },
     "execution_count": 17,
     "metadata": {},
     "output_type": "execute_result"
    }
   ],
   "source": [
    "# Check the number of users in the data\n",
    "df_clean.select('userID').dropDuplicates().count()"
   ]
  },
  {
   "cell_type": "code",
   "execution_count": 18,
   "metadata": {},
   "outputs": [
    {
     "data": {
      "text/plain": [
       "56"
      ]
     },
     "execution_count": 18,
     "metadata": {},
     "output_type": "execute_result"
    }
   ],
   "source": [
    "df_clean.select('userAgent').distinct().count()"
   ]
  },
  {
   "cell_type": "code",
   "execution_count": 19,
   "metadata": {},
   "outputs": [
    {
     "name": "stdout",
     "output_type": "stream",
     "text": [
      "+------+\n",
      "|status|\n",
      "+------+\n",
      "|   307|\n",
      "|   404|\n",
      "|   200|\n",
      "+------+\n",
      "\n"
     ]
    }
   ],
   "source": [
    "df_clean.select('status').distinct().show()"
   ]
  },
  {
   "cell_type": "code",
   "execution_count": 20,
   "metadata": {},
   "outputs": [
    {
     "name": "stdout",
     "output_type": "stream",
     "text": [
      "+-------+-----------------+\n",
      "|summary|           length|\n",
      "+-------+-----------------+\n",
      "|  count|           228108|\n",
      "|   mean|249.1171819778458|\n",
      "| stddev|99.23517921058361|\n",
      "|    min|          0.78322|\n",
      "|    max|       3024.66567|\n",
      "+-------+-----------------+\n",
      "\n"
     ]
    }
   ],
   "source": [
    "# Check the statistics of the numerical column of length\n",
    "df_clean.select('length').describe().show()"
   ]
  },
  {
   "cell_type": "code",
   "execution_count": 21,
   "metadata": {},
   "outputs": [
    {
     "data": {
      "image/png": "[encoded data removed]",
      "text/plain": [
       "<matplotlib.figure.Figure at 0x7fe77406f080>"
      ]
     },
     "metadata": {
      "needs_background": "light"
     },
     "output_type": "display_data"
    },
    {
     "data": {
      "text/plain": [
       "<matplotlib.figure.Figure at 0x7fe76dddd550>"
      ]
     },
     "metadata": {},
     "output_type": "display_data"
    }
   ],
   "source": [
    "# Visualize the distributions of the categorical columns\n",
    "cat_cols = ['auth', 'gender', 'level', 'method', 'page', 'status']\n",
    "\n",
    "fig, axs = plt.subplots(nrows=2, ncols=3, figsize = (15, 8))\n",
    "\n",
    "i = 0\n",
    "\n",
    "for col in cat_cols:\n",
    "    temp_df = df_clean.groupBy(col).count().toPandas()\n",
    "    ax1 = axs[math.floor(i / 3), i % 3]\n",
    "    sns.barplot(temp_df[col], temp_df['count'], ax = ax1)\n",
    "    ax1.set_xlabel(col)\n",
    "    ax1.set_ylabel('Count')\n",
    "    ax1.legend(loc=0)\n",
    "    if col == 'page':\n",
    "        ax1.tick_params(axis='x', rotation = -90)\n",
    "    i += 1\n",
    "    \n",
    "plt.tight_layout()\n",
    "\n",
    "plt.show()\n",
    "plt.savefig('figs/dist_cat.png', dpi = 300, bbox_inches='tight')"
   ]
  },
  {
   "cell_type": "markdown",
   "metadata": {},
   "source": [
    "From the observations above, one most significant finding is that for most of the categorical columns, the distribution is strongly skewed."
   ]
  },
  {
   "cell_type": "markdown",
   "metadata": {},
   "source": [
    "### Define Churn\n",
    "\n",
    "Create a column `Churn` to use as the label for the model. Here, I chose to use the `Cancellation Confirmation` event in the `page` column to define the churn, which happen for both paid and free users."
   ]
  },
  {
   "cell_type": "code",
   "execution_count": 22,
   "metadata": {},
   "outputs": [
    {
     "name": "stdout",
     "output_type": "stream",
     "text": [
      "+--------------------+\n",
      "|                page|\n",
      "+--------------------+\n",
      "|              Cancel|\n",
      "|    Submit Downgrade|\n",
      "|         Thumbs Down|\n",
      "|                Home|\n",
      "|           Downgrade|\n",
      "|         Roll Advert|\n",
      "|              Logout|\n",
      "|       Save Settings|\n",
      "|Cancellation Conf...|\n",
      "|               About|\n",
      "|            Settings|\n",
      "|     Add to Playlist|\n",
      "|          Add Friend|\n",
      "|            NextSong|\n",
      "|           Thumbs Up|\n",
      "|                Help|\n",
      "|             Upgrade|\n",
      "|               Error|\n",
      "|      Submit Upgrade|\n",
      "+--------------------+\n",
      "\n"
     ]
    }
   ],
   "source": [
    "df_clean.select('page').distinct().show()"
   ]
  },
  {
   "cell_type": "code",
   "execution_count": 23,
   "metadata": {},
   "outputs": [
    {
     "name": "stdout",
     "output_type": "stream",
     "text": [
      "+------+----+---------+------+-------------+--------+------+-----+--------+------+----+------------+---------+----+------+---+---------+------+----+----------------+\n",
      "|artist|auth|firstName|gender|itemInSession|lastName|length|level|location|method|page|registration|sessionId|song|status| ts|userAgent|userId|time|registrationTime|\n",
      "+------+----+---------+------+-------------+--------+------+-----+--------+------+----+------------+---------+----+------+---+---------+------+----+----------------+\n",
      "+------+----+---------+------+-------------+--------+------+-----+--------+------+----+------------+---------+----+------+---+---------+------+----+----------------+\n",
      "\n"
     ]
    }
   ],
   "source": [
    "df_clean.filter((df['auth']!='Cancelled') & (df['page']=='Cancellation Confirmation')).show()"
   ]
  },
  {
   "cell_type": "code",
   "execution_count": 24,
   "metadata": {},
   "outputs": [
    {
     "name": "stdout",
     "output_type": "stream",
     "text": [
      "+---------+\n",
      "|     auth|\n",
      "+---------+\n",
      "|Cancelled|\n",
      "+---------+\n",
      "\n"
     ]
    }
   ],
   "source": [
    "df_clean.filter(df['page']=='Cancellation Confirmation').select('auth').dropDuplicates().show()"
   ]
  },
  {
   "cell_type": "code",
   "execution_count": 25,
   "metadata": {},
   "outputs": [
    {
     "data": {
      "text/plain": [
       "52"
      ]
     },
     "execution_count": 25,
     "metadata": {},
     "output_type": "execute_result"
    }
   ],
   "source": [
    "df_clean.filter(df['page']=='Cancellation Confirmation').count()"
   ]
  },
  {
   "cell_type": "code",
   "execution_count": 26,
   "metadata": {
    "scrolled": true
   },
   "outputs": [
    {
     "data": {
      "text/plain": [
       "52"
      ]
     },
     "execution_count": 26,
     "metadata": {},
     "output_type": "execute_result"
    }
   ],
   "source": [
    "df_clean.filter(df['page']=='Cancellation Confirmation').select('userID').dropDuplicates().count()"
   ]
  },
  {
   "cell_type": "markdown",
   "metadata": {},
   "source": [
    "We observe that no duplicate user ID is present with the `Cancellation Confirmation` event and only those with a `Cancelled` auth status can have the `Cancellation Confirmation` event. Then,we will define the churn column, which is labeled 1 if the user ID in the same row has ever performed a `Cancellation Confirmation` event."
   ]
  },
  {
   "cell_type": "code",
   "execution_count": 27,
   "metadata": {},
   "outputs": [],
   "source": [
    "# Define the list of the user IDs who have ever had the cancellation confirmation event\n",
    "user_churned = df_clean.filter(df['page']=='Cancellation Confirmation').select('userID').dropDuplicates()\n",
    "user_churned_list = [r['userID'] for r in user_churned.collect()]"
   ]
  },
  {
   "cell_type": "code",
   "execution_count": 28,
   "metadata": {},
   "outputs": [],
   "source": [
    "# Create the churn column\n",
    "\n",
    "# Define the udf to extract the churn label\n",
    "is_churn_udf = udf(lambda x: 1 if x in user_churned_list else 0, IntegerType())\n",
    "df_clean = df_clean.withColumn('churn', is_churn_udf('userID'))"
   ]
  },
  {
   "cell_type": "code",
   "execution_count": 29,
   "metadata": {},
   "outputs": [
    {
     "data": {
      "text/plain": [
       "233290"
      ]
     },
     "execution_count": 29,
     "metadata": {},
     "output_type": "execute_result"
    }
   ],
   "source": [
    "df_clean.filter(df_clean['churn']==0).count()"
   ]
  },
  {
   "cell_type": "code",
   "execution_count": 30,
   "metadata": {},
   "outputs": [
    {
     "data": {
      "text/plain": [
       "278154"
      ]
     },
     "execution_count": 30,
     "metadata": {},
     "output_type": "execute_result"
    }
   ],
   "source": [
    "df_clean.count()"
   ]
  },
  {
   "cell_type": "code",
   "execution_count": 31,
   "metadata": {},
   "outputs": [],
   "source": [
    "# df_with_target = df_clean.withColumn('churn', df['userID'].isin(user_churned_list))\n",
    "# df_with_target.filter(df_with_target['churn']==False).count()"
   ]
  },
  {
   "cell_type": "markdown",
   "metadata": {},
   "source": [
    "In addition, downgrading may be another interesting target variable to study, which is reflected by the `Submit Downgrade` event in the `page` column. We'll also include it here using the similar method above."
   ]
  },
  {
   "cell_type": "code",
   "execution_count": 32,
   "metadata": {},
   "outputs": [
    {
     "name": "stdout",
     "output_type": "stream",
     "text": [
      "+---------+\n",
      "|     auth|\n",
      "+---------+\n",
      "|Logged In|\n",
      "+---------+\n",
      "\n"
     ]
    }
   ],
   "source": [
    "df_clean.filter(df['page']=='Submit Downgrade').select('auth').dropDuplicates().show()"
   ]
  },
  {
   "cell_type": "code",
   "execution_count": 33,
   "metadata": {},
   "outputs": [],
   "source": [
    "# downgrade_value  = udf(lambda x: 1 if x == \"Submit Downgrade\" else 0, IntegerType())\n",
    "# df = df.withColumn(\"downgrade_value\", downgrade_value(\"page\"))\n",
    "\n",
    "# dg_window = Window.partitionBy('UserId')\n",
    "# df = df.withColumn(\"user_downgrade\", max('downgrade_value').over(dg_window))"
   ]
  },
  {
   "cell_type": "code",
   "execution_count": 34,
   "metadata": {},
   "outputs": [],
   "source": [
    "user_downgrade = df_clean.filter(df['page']=='Submit Downgrade').select('userID').dropDuplicates()\n",
    "user_downgrade_list = [r['userID'] for r in user_downgrade.collect()]"
   ]
  },
  {
   "cell_type": "code",
   "execution_count": 35,
   "metadata": {},
   "outputs": [],
   "source": [
    "is_downgrade_udf = udf(lambda x: 1 if x in user_downgrade_list else 0, IntegerType())\n",
    "df_clean = df_clean.withColumn('downgrade', is_downgrade_udf('userID'))"
   ]
  },
  {
   "cell_type": "code",
   "execution_count": 36,
   "metadata": {},
   "outputs": [
    {
     "name": "stdout",
     "output_type": "stream",
     "text": [
      "+---------+-----+--------+------+-----+---------+\n",
      "|     auth|level|    page|userId|churn|downgrade|\n",
      "+---------+-----+--------+------+-----+---------+\n",
      "|Logged In| free|NextSong|100010|    0|        0|\n",
      "|Logged In| free|NextSong|200002|    0|        0|\n",
      "|Logged In| free|NextSong|   125|    1|        0|\n",
      "|Logged In| paid|    Home|   124|    0|        0|\n",
      "|Logged In| paid|    Home|    51|    1|        0|\n",
      "|Logged In| free|NextSong|     7|    0|        0|\n",
      "|Logged In| paid|    Home|    15|    0|        0|\n",
      "|Logged In| paid|NextSong|    54|    1|        1|\n",
      "|Logged In| free|    Home|   155|    0|        0|\n",
      "|Logged In| paid|NextSong|100014|    1|        0|\n",
      "|Logged In| free|NextSong|   132|    0|        0|\n",
      "|Logged In| free|    Home|   154|    0|        0|\n",
      "|Logged In| free|    Home|   101|    1|        0|\n",
      "|Logged In| free|    Home|    11|    0|        1|\n",
      "|Logged In| free|    Home|   138|    0|        0|\n",
      "|Logged In| paid|NextSong|300017|    0|        0|\n",
      "|Logged In| free|NextSong|100021|    1|        0|\n",
      "|Logged In| free|NextSong|    29|    1|        0|\n",
      "|Logged In| free|NextSong|    69|    0|        0|\n",
      "|Logged In| free|    Home|   112|    0|        0|\n",
      "+---------+-----+--------+------+-----+---------+\n",
      "only showing top 20 rows\n",
      "\n"
     ]
    }
   ],
   "source": [
    "df_clean.dropDuplicates(['userID']).select('auth', 'level', 'page', 'userId', 'churn', 'downgrade').show()"
   ]
  },
  {
   "cell_type": "markdown",
   "metadata": {},
   "source": [
    "### Explore Data\n",
    "With the churn (target column) defined, it will be helpful to perform some further exploratory data analysis to see the difference in behaviors for users who stayed vs users who churned. We'll start with the patterns of the columns we currently have based on whether the user churned or not."
   ]
  },
  {
   "cell_type": "code",
   "execution_count": 37,
   "metadata": {},
   "outputs": [
    {
     "name": "stdout",
     "output_type": "stream",
     "text": [
      "There are 52 churned users and 173 non-churned users, the ratio of churned users is 23.11%.\n"
     ]
    }
   ],
   "source": [
    "churn_count = df_clean.dropDuplicates(['userID']).groupBy('churn').count().toPandas()\n",
    "churn_ratio = churn_count['count'][0] / (churn_count['count'].sum())\n",
    "print('There are {} churned users and {} non-churned users, the ratio of churned users is {:.2f}%.'.format(churn_count['count'][0],\n",
    "                                                                                                      churn_count['count'][1],\n",
    "                                                                                                      churn_ratio * 100))"
   ]
  },
  {
   "cell_type": "code",
   "execution_count": 38,
   "metadata": {},
   "outputs": [],
   "source": [
    "def vis_dist_pattern(df, drop_label, x_label):\n",
    "    '''\n",
    "    Function to visualize the difference in distribution based on some categorical feature(s) in the dataset\n",
    "     \n",
    "    Args:\n",
    "        df: a spark Dataframe\n",
    "        drop_label: a list of string(s), the name(s) of the column(s) to drop the duplicates\n",
    "        x_label: a string, the name of the column for the x-axis\n",
    "        \n",
    "    Returns:\n",
    "        None\n",
    "    '''\n",
    "    \n",
    "    fig, ax = plt.subplots(figsize=(6, 4))\n",
    "    df_temp = df.dropDuplicates(drop_label).groupBy([x_label, 'churn']).count().toPandas()\n",
    "    sns.barplot(x=x_label, y='count', hue='churn', data=df_temp)\n",
    "    plt.tight_layout()\n",
    "    plt.show()\n",
    "    plt.savefig('figs/comp_%s_on_churn.png' % x_label, dpi = 300, bbox_inches='tight')"
   ]
  },
  {
   "cell_type": "code",
   "execution_count": 39,
   "metadata": {
    "scrolled": true
   },
   "outputs": [
    {
     "data": {
      "image/png": "[encoded data removed]",
      "text/plain": [
       "<matplotlib.figure.Figure at 0x7fe76da79400>"
      ]
     },
     "metadata": {
      "needs_background": "light"
     },
     "output_type": "display_data"
    },
    {
     "data": {
      "text/plain": [
       "<matplotlib.figure.Figure at 0x7fe76da92550>"
      ]
     },
     "metadata": {},
     "output_type": "display_data"
    }
   ],
   "source": [
    "vis_dist_pattern(df_clean, ['userID'], 'gender')"
   ]
  },
  {
   "cell_type": "code",
   "execution_count": 40,
   "metadata": {},
   "outputs": [
    {
     "data": {
      "image/png": "[encoded data removed]",
      "text/plain": [
       "<matplotlib.figure.Figure at 0x7fe76da79d68>"
      ]
     },
     "metadata": {
      "needs_background": "light"
     },
     "output_type": "display_data"
    },
    {
     "data": {
      "text/plain": [
       "<matplotlib.figure.Figure at 0x7fe76d79b3c8>"
      ]
     },
     "metadata": {},
     "output_type": "display_data"
    }
   ],
   "source": [
    "vis_dist_pattern(df_clean, ['userID'], 'level')"
   ]
  },
  {
   "cell_type": "code",
   "execution_count": 41,
   "metadata": {},
   "outputs": [
    {
     "data": {
      "text/html": [
       "<div>\n",
       "<style scoped>\n",
       "    .dataframe tbody tr th:only-of-type {\n",
       "        vertical-align: middle;\n",
       "    }\n",
       "\n",
       "    .dataframe tbody tr th {\n",
       "        vertical-align: top;\n",
       "    }\n",
       "\n",
       "    .dataframe thead th {\n",
       "        text-align: right;\n",
       "    }\n",
       "</style>\n",
       "<table border=\"1\" class=\"dataframe\">\n",
       "  <thead>\n",
       "    <tr style=\"text-align: right;\">\n",
       "      <th></th>\n",
       "      <th>churn</th>\n",
       "      <th>status</th>\n",
       "      <th>count</th>\n",
       "      <th>dist_by_churn</th>\n",
       "    </tr>\n",
       "  </thead>\n",
       "  <tbody>\n",
       "    <tr>\n",
       "      <th>4</th>\n",
       "      <td>0</td>\n",
       "      <td>200</td>\n",
       "      <td>213581</td>\n",
       "      <td>91.551717</td>\n",
       "    </tr>\n",
       "    <tr>\n",
       "      <th>5</th>\n",
       "      <td>0</td>\n",
       "      <td>307</td>\n",
       "      <td>19489</td>\n",
       "      <td>8.353980</td>\n",
       "    </tr>\n",
       "    <tr>\n",
       "      <th>2</th>\n",
       "      <td>0</td>\n",
       "      <td>404</td>\n",
       "      <td>220</td>\n",
       "      <td>0.094303</td>\n",
       "    </tr>\n",
       "    <tr>\n",
       "      <th>0</th>\n",
       "      <td>1</td>\n",
       "      <td>200</td>\n",
       "      <td>41137</td>\n",
       "      <td>91.692671</td>\n",
       "    </tr>\n",
       "    <tr>\n",
       "      <th>3</th>\n",
       "      <td>1</td>\n",
       "      <td>307</td>\n",
       "      <td>3695</td>\n",
       "      <td>8.236002</td>\n",
       "    </tr>\n",
       "    <tr>\n",
       "      <th>1</th>\n",
       "      <td>1</td>\n",
       "      <td>404</td>\n",
       "      <td>32</td>\n",
       "      <td>0.071327</td>\n",
       "    </tr>\n",
       "  </tbody>\n",
       "</table>\n",
       "</div>"
      ],
      "text/plain": [
       "   churn  status   count  dist_by_churn\n",
       "4      0     200  213581      91.551717\n",
       "5      0     307   19489       8.353980\n",
       "2      0     404     220       0.094303\n",
       "0      1     200   41137      91.692671\n",
       "3      1     307    3695       8.236002\n",
       "1      1     404      32       0.071327"
      ]
     },
     "execution_count": 41,
     "metadata": {},
     "output_type": "execute_result"
    }
   ],
   "source": [
    "df_status = df_clean.groupBy(['churn','status']).count().toPandas()\n",
    "tot_churn_status = df_status[df_status['churn'] == 1]['count'].sum()\n",
    "tot_nonchurn_status = df_status[df_status['churn'] == 0]['count'].sum()\n",
    "df_status['dist_by_churn'] = df_status.apply(lambda x: x['count'] / tot_churn_status * 100 \n",
    "                                             if x['churn'] == 1 else x['count'] / tot_nonchurn_status * 100, axis=1)\n",
    "\n",
    "df_status.sort_values(['churn', 'status'], axis=0)"
   ]
  },
  {
   "cell_type": "markdown",
   "metadata": {},
   "source": [
    "As each user has the unique values in the `gender` and `level` column, we keep only one record of each user and check the specific patterns of these two columns.<br/>\n",
    "We can see that, there tend to be more non-churned male users as well as churned male users than female users, with a higher ratio of churning for male users. Also, there is a higher chance for free users to churn and the total amount of free users are much larger than paid users.<br/>\n",
    "The distribution of the `status` column is very similar for two groups of users (seems like random events), so we should probably remove this feature later (as well as the `method` column).<br/>\n",
    "The `page` column is of great interests and since each user can have multiple events, we should next check the distributions of different events based on whether the user experienced the event churned."
   ]
  },
  {
   "cell_type": "code",
   "execution_count": 42,
   "metadata": {},
   "outputs": [
    {
     "data": {
      "image/png": "[encoded data removed]",
      "text/plain": [
       "<matplotlib.figure.Figure at 0x7fe76d74a828>"
      ]
     },
     "metadata": {
      "needs_background": "light"
     },
     "output_type": "display_data"
    },
    {
     "data": {
      "text/plain": [
       "<matplotlib.figure.Figure at 0x7fe76d7bc940>"
      ]
     },
     "metadata": {},
     "output_type": "display_data"
    }
   ],
   "source": [
    "fig, ax = plt.subplots(figsize = (15, 8))\n",
    "df_temp = df_clean.groupBy(['churn','page']).count().toPandas()\n",
    "sns.barplot(x='page', y='count', hue='churn', data=df_temp, ax=ax)\n",
    "ax.set_ylabel('Count', fontsize = 16)\n",
    "ax.set_xlabel('page', fontsize = 16)\n",
    "ax.tick_params(axis='y', labelsize = 15)\n",
    "ax.tick_params(axis='x', labelsize = 15, rotation = -90)\n",
    "ax.legend(loc = 0, fontsize = 16)\n",
    "plt.tight_layout()\n",
    "plt.show()\n",
    "plt.savefig('figs/page.png', dpi=300, bbox_inches='tight')"
   ]
  },
  {
   "cell_type": "code",
   "execution_count": 43,
   "metadata": {},
   "outputs": [
    {
     "data": {
      "text/plain": [
       "0.15954723201290616"
      ]
     },
     "execution_count": 43,
     "metadata": {},
     "output_type": "execute_result"
    }
   ],
   "source": [
    "# Calculate the ratio of the NextSong of unchunred users\n",
    "df_temp[df_temp['page'] == 'NextSong']['count'].iloc[1] / df_temp[df_temp['page'] == 'NextSong']['count'].sum()"
   ]
  },
  {
   "cell_type": "markdown",
   "metadata": {},
   "source": [
    "Apparently, churned users has much less actions of `NextSong`. Althought this may be resulted from the smaller total amount of churned, we can check the ratio of `NextSong` of unchunred users here, which is about 16% and smaller than the ratio of the churned users of around 21%, so it still seems to have an effect from this event. And due to the large numbers of this event, other events may not be so clear, so we'll remove this column and take the unbalanced user numbers into consideration to re-check the patterns."
   ]
  },
  {
   "cell_type": "code",
   "execution_count": 44,
   "metadata": {},
   "outputs": [
    {
     "data": {
      "text/plain": [
       "1348.4971098265896"
      ]
     },
     "execution_count": 44,
     "metadata": {},
     "output_type": "execute_result"
    }
   ],
   "source": [
    "# Average number of events of the two groups of users\n",
    "df_temp[df_temp['churn'] == 0]['count'].sum() / churn_count.loc[1, 'count']"
   ]
  },
  {
   "cell_type": "code",
   "execution_count": 45,
   "metadata": {},
   "outputs": [
    {
     "data": {
      "text/plain": [
       "862.76923076923072"
      ]
     },
     "execution_count": 45,
     "metadata": {},
     "output_type": "execute_result"
    }
   ],
   "source": [
    "df_temp[df_temp['churn'] == 1]['count'].sum() / churn_count.loc[0, 'count']"
   ]
  },
  {
   "cell_type": "code",
   "execution_count": 46,
   "metadata": {},
   "outputs": [],
   "source": [
    "# Take the unbalanced number of churned/non-churned users into consideration\n",
    "df_temp['balanced'] = df_temp.apply(lambda x: x['count'] / churn_ratio if x['churn'] == 1 else x['count'], axis=1)"
   ]
  },
  {
   "cell_type": "code",
   "execution_count": 47,
   "metadata": {},
   "outputs": [
    {
     "data": {
      "image/png": "[encoded data removed]",
      "text/plain": [
       "<matplotlib.figure.Figure at 0x7fe76d68dc50>"
      ]
     },
     "metadata": {
      "needs_background": "light"
     },
     "output_type": "display_data"
    },
    {
     "data": {
      "text/plain": [
       "<matplotlib.figure.Figure at 0x7fe76d7f2b00>"
      ]
     },
     "metadata": {},
     "output_type": "display_data"
    }
   ],
   "source": [
    "fig, ax = plt.subplots(figsize = (15, 8))\n",
    "\n",
    "sns.barplot(x='page', y='balanced', hue='churn', data=df_temp[df_temp['page']!='NextSong'], ax=ax)\n",
    "ax.set_ylabel('Count', fontsize = 16)\n",
    "ax.set_xlabel('page', fontsize = 16)\n",
    "ax.tick_params(axis='y', labelsize = 15)\n",
    "ax.tick_params(axis='x', labelsize = 15, rotation = -90)\n",
    "ax.legend(loc = 0, fontsize = 16)\n",
    "plt.tight_layout()\n",
    "plt.show()\n",
    "plt.savefig('figs/page2.png', dpi=300, bbox_inches='tight')"
   ]
  },
  {
   "cell_type": "code",
   "execution_count": 48,
   "metadata": {},
   "outputs": [],
   "source": [
    "def vis_dist_percentage(df, col):\n",
    "    '''\n",
    "    Function to visualize the distribution patterns in percentage based on two user groups in the dataset\n",
    "     \n",
    "    Args:\n",
    "        df: a spark Dataframe\n",
    "        col: a string, the name of the column to visualize\n",
    "        \n",
    "    Returns:\n",
    "        None\n",
    "    '''\n",
    "    \n",
    "    df_temp = df.groupBy(['churn',col]).count().toPandas()\n",
    "    tot_churn_events = df_temp[df_temp['churn'] == 1]['count'].sum()\n",
    "    tot_nonchurn_events = df_temp[df_temp['churn'] == 0]['count'].sum()\n",
    "    df_temp['percentage_by_churn'] = df_temp.apply(lambda x: x['count'] / tot_churn_events * 100 \n",
    "                                                   if x['churn'] == 1 else x['count'] / tot_nonchurn_events * 100, axis=1)\n",
    "    df_temp.sort_values(['churn', col], axis=0, inplace=True)\n",
    "    fig, ax = plt.subplots(figsize = (15, 8))\n",
    "    \n",
    "    sns.barplot(x=col, y='percentage_by_churn', hue='churn', data=df_temp, ax=ax)\n",
    "    ax.set_ylabel('Percentage', fontsize = 16)\n",
    "    ax.set_xlabel(col, fontsize = 16)\n",
    "    ax.tick_params(axis='y', labelsize = 15)\n",
    "    ax.tick_params(axis='x', labelsize = 15, rotation = -90)\n",
    "    ax.legend(loc = 0, fontsize = 16)\n",
    "    plt.tight_layout()\n",
    "    plt.show()\n",
    "    plt.savefig('figs/%s_dist_percent.png' % col, dpi=300, bbox_inches='tight')"
   ]
  },
  {
   "cell_type": "code",
   "execution_count": 49,
   "metadata": {
    "scrolled": false
   },
   "outputs": [
    {
     "data": {
      "image/png": "[encoded data removed]",
      "text/plain": [
       "<matplotlib.figure.Figure at 0x7fe76d56d550>"
      ]
     },
     "metadata": {
      "needs_background": "light"
     },
     "output_type": "display_data"
    },
    {
     "data": {
      "text/plain": [
       "<matplotlib.figure.Figure at 0x7fe76d41e1d0>"
      ]
     },
     "metadata": {},
     "output_type": "display_data"
    }
   ],
   "source": [
    "vis_dist_percentage(df_clean.filter(df_clean['page']!='NextSong'), 'page')"
   ]
  },
  {
   "cell_type": "markdown",
   "metadata": {},
   "source": [
    "The two plots above have a similar trend, except for the `Logout`, `Home`, `Help`, and `Downgrade` events, which the trend is reversed, but since these events are originally quite similar for churned/non-churned users, such observation is fine. We can see that the most significant effects are from the `Roll Advert`, `Thumbs Up`, and `Thumbs Down` events as well as possible `Add Friend` and `Add to Playlist` events.\n",
    "In these events, `Roll Advert` and `Thumbs Down` are positively related to churn while others are negatively related.<br/>\n",
    "For the next step, we'll deal with the text info from the data, such as information from the `artist`, `location` and `userAgent` columns.<br/>\n",
    "In addition, we can see that the non-churned users are in general more active than the churned users."
   ]
  },
  {
   "cell_type": "code",
   "execution_count": 50,
   "metadata": {},
   "outputs": [
    {
     "data": {
      "text/plain": [
       "17656"
      ]
     },
     "execution_count": 50,
     "metadata": {},
     "output_type": "execute_result"
    }
   ],
   "source": [
    "df_clean.select('artist').distinct().count()"
   ]
  },
  {
   "cell_type": "markdown",
   "metadata": {},
   "source": [
    "Too many possible artists, we'll firstly leave this out and check the other two columns."
   ]
  },
  {
   "cell_type": "code",
   "execution_count": 51,
   "metadata": {},
   "outputs": [
    {
     "data": {
      "text/plain": [
       "114"
      ]
     },
     "execution_count": 51,
     "metadata": {},
     "output_type": "execute_result"
    }
   ],
   "source": [
    "df_clean.select('location').distinct().count()"
   ]
  },
  {
   "cell_type": "code",
   "execution_count": 52,
   "metadata": {},
   "outputs": [
    {
     "name": "stdout",
     "output_type": "stream",
     "text": [
      "+---------------------------------------+\n",
      "|location                               |\n",
      "+---------------------------------------+\n",
      "|Gainesville, FL                        |\n",
      "|Atlantic City-Hammonton, NJ            |\n",
      "|Deltona-Daytona Beach-Ormond Beach, FL |\n",
      "|San Diego-Carlsbad, CA                 |\n",
      "|Cleveland-Elyria, OH                   |\n",
      "|Kingsport-Bristol-Bristol, TN-VA       |\n",
      "|New Haven-Milford, CT                  |\n",
      "|Birmingham-Hoover, AL                  |\n",
      "|Corpus Christi, TX                     |\n",
      "|Dubuque, IA                            |\n",
      "|Las Vegas-Henderson-Paradise, NV       |\n",
      "|Indianapolis-Carmel-Anderson, IN       |\n",
      "|Seattle-Tacoma-Bellevue, WA            |\n",
      "|Albany, OR                             |\n",
      "|Winston-Salem, NC                      |\n",
      "|Bakersfield, CA                        |\n",
      "|Los Angeles-Long Beach-Anaheim, CA     |\n",
      "|Minneapolis-St. Paul-Bloomington, MN-WI|\n",
      "|San Francisco-Oakland-Hayward, CA      |\n",
      "|Phoenix-Mesa-Scottsdale, AZ            |\n",
      "+---------------------------------------+\n",
      "only showing top 20 rows\n",
      "\n"
     ]
    }
   ],
   "source": [
    "df_clean.select('location').distinct().show(20, False)"
   ]
  },
  {
   "cell_type": "code",
   "execution_count": 53,
   "metadata": {},
   "outputs": [],
   "source": [
    "# Extract the state from the location\n",
    "get_state_udf = udf(lambda x: x.split(',')[1].strip().split('-')[0])\n",
    "df_clean = df_clean.withColumn('state', get_state_udf('location'))"
   ]
  },
  {
   "cell_type": "code",
   "execution_count": 54,
   "metadata": {
    "scrolled": true
   },
   "outputs": [
    {
     "data": {
      "text/plain": [
       "41"
      ]
     },
     "execution_count": 54,
     "metadata": {},
     "output_type": "execute_result"
    }
   ],
   "source": [
    "df_clean.select('state').distinct().count()"
   ]
  },
  {
   "cell_type": "code",
   "execution_count": 55,
   "metadata": {},
   "outputs": [
    {
     "name": "stdout",
     "output_type": "stream",
     "text": [
      "+-----+\n",
      "|state|\n",
      "+-----+\n",
      "|   AZ|\n",
      "|   SC|\n",
      "|   LA|\n",
      "|   MN|\n",
      "|   NJ|\n",
      "|   DC|\n",
      "|   OR|\n",
      "|   VA|\n",
      "|   RI|\n",
      "|   KY|\n",
      "+-----+\n",
      "only showing top 10 rows\n",
      "\n"
     ]
    }
   ],
   "source": [
    "df_clean.select('state').distinct().show(10)"
   ]
  },
  {
   "cell_type": "code",
   "execution_count": 56,
   "metadata": {},
   "outputs": [
    {
     "data": {
      "text/plain": [
       "56"
      ]
     },
     "execution_count": 56,
     "metadata": {},
     "output_type": "execute_result"
    }
   ],
   "source": [
    "df_clean.select('userAgent').distinct().count()"
   ]
  },
  {
   "cell_type": "code",
   "execution_count": 57,
   "metadata": {},
   "outputs": [
    {
     "name": "stdout",
     "output_type": "stream",
     "text": [
      "+-------------------------------------------------------------------------------------------------------------------------------------------+\n",
      "|userAgent                                                                                                                                  |\n",
      "+-------------------------------------------------------------------------------------------------------------------------------------------+\n",
      "|\"Mozilla/5.0 (Macintosh; Intel Mac OS X 10_8_5) AppleWebKit/537.36 (KHTML, like Gecko) Chrome/36.0.1985.143 Safari/537.36\"                 |\n",
      "|\"Mozilla/5.0 (Windows NT 5.1) AppleWebKit/537.36 (KHTML, like Gecko) Chrome/36.0.1985.143 Safari/537.36\"                                   |\n",
      "|Mozilla/5.0 (X11; Ubuntu; Linux i686; rv:31.0) Gecko/20100101 Firefox/31.0                                                                 |\n",
      "|\"Mozilla/5.0 (Macintosh; Intel Mac OS X 10_9_4) AppleWebKit/537.36 (KHTML, like Gecko) Chrome/36.0.1985.125 Safari/537.36\"                 |\n",
      "|\"Mozilla/5.0 (Macintosh; Intel Mac OS X 10_9_4) AppleWebKit/537.36 (KHTML, like Gecko) Chrome/35.0.1916.153 Safari/537.36\"                 |\n",
      "|Mozilla/5.0 (Macintosh; Intel Mac OS X 10.7; rv:31.0) Gecko/20100101 Firefox/31.0                                                          |\n",
      "|Mozilla/5.0 (Windows NT 6.1; WOW64; rv:30.0) Gecko/20100101 Firefox/30.0                                                                   |\n",
      "|Mozilla/5.0 (Windows NT 6.3; WOW64; rv:31.0) Gecko/20100101 Firefox/31.0                                                                   |\n",
      "|Mozilla/5.0 (compatible; MSIE 9.0; Windows NT 6.1; WOW64; Trident/5.0)                                                                     |\n",
      "|\"Mozilla/5.0 (Windows NT 6.3; WOW64) AppleWebKit/537.36 (KHTML, like Gecko) Chrome/36.0.1985.143 Safari/537.36\"                            |\n",
      "|Mozilla/5.0 (Macintosh; Intel Mac OS X 10.9; rv:31.0) Gecko/20100101 Firefox/31.0                                                          |\n",
      "|\"Mozilla/5.0 (Windows NT 5.1) AppleWebKit/537.36 (KHTML, like Gecko) Chrome/36.0.1985.125 Safari/537.36\"                                   |\n",
      "|\"Mozilla/5.0 (iPhone; CPU iPhone OS 7_1_1 like Mac OS X) AppleWebKit/537.51.2 (KHTML, like Gecko) Version/7.0 Mobile/11D201 Safari/9537.53\"|\n",
      "|\"Mozilla/5.0 (Windows NT 6.1; WOW64) AppleWebKit/537.36 (KHTML, like Gecko) Chrome/36.0.1985.125 Safari/537.36\"                            |\n",
      "|Mozilla/5.0 (Windows NT 6.1; WOW64; rv:31.0) Gecko/20100101 Firefox/31.0                                                                   |\n",
      "|Mozilla/5.0 (compatible; MSIE 9.0; Windows NT 6.1; Trident/5.0)                                                                            |\n",
      "|Mozilla/5.0 (compatible; MSIE 10.0; Windows NT 6.1; WOW64; Trident/6.0)                                                                    |\n",
      "|\"Mozilla/5.0 (Macintosh; Intel Mac OS X 10_8_5) AppleWebKit/537.36 (KHTML, like Gecko) Chrome/37.0.2062.94 Safari/537.36\"                  |\n",
      "|\"Mozilla/5.0 (Macintosh; Intel Mac OS X 10_9_2) AppleWebKit/537.75.14 (KHTML, like Gecko) Version/7.0.3 Safari/537.75.14\"                  |\n",
      "|\"Mozilla/5.0 (Windows NT 6.1; WOW64) AppleWebKit/537.36 (KHTML, like Gecko) Chrome/37.0.2062.103 Safari/537.36\"                            |\n",
      "+-------------------------------------------------------------------------------------------------------------------------------------------+\n",
      "only showing top 20 rows\n",
      "\n"
     ]
    }
   ],
   "source": [
    "df_clean.select('userAgent').distinct().show(20, False)"
   ]
  },
  {
   "cell_type": "code",
   "execution_count": 58,
   "metadata": {},
   "outputs": [
    {
     "data": {
      "text/plain": [
       "'\"Mozilla/5.0 (Macintosh; Intel Mac OS X 10_8_5) AppleWebKit/537.36 (KHTML, like Gecko) Chrome/36.0.1985.143 Safari/537.36\"'"
      ]
     },
     "execution_count": 58,
     "metadata": {},
     "output_type": "execute_result"
    }
   ],
   "source": [
    "trial_str = df_clean.select('userAgent').distinct().collect()[0][0]\n",
    "trial_str"
   ]
  },
  {
   "cell_type": "code",
   "execution_count": 59,
   "metadata": {},
   "outputs": [
    {
     "data": {
      "text/plain": [
       "'Macintosh'"
      ]
     },
     "execution_count": 59,
     "metadata": {},
     "output_type": "execute_result"
    }
   ],
   "source": [
    "pattern = r'\\(([^\\(\\)]*)\\)'\n",
    "re.findall(pattern, trial_str)[0].split(';')[0]"
   ]
  },
  {
   "cell_type": "code",
   "execution_count": 60,
   "metadata": {},
   "outputs": [],
   "source": [
    "# Extract the platform from the userAgent\n",
    "get_os_udf = udf(lambda x: re.findall(pattern, x)[0].split(';')[0])\n",
    "df_clean = df_clean.withColumn('platform', get_os_udf('userAgent'))"
   ]
  },
  {
   "cell_type": "code",
   "execution_count": 61,
   "metadata": {},
   "outputs": [
    {
     "data": {
      "text/plain": [
       "10"
      ]
     },
     "execution_count": 61,
     "metadata": {},
     "output_type": "execute_result"
    }
   ],
   "source": [
    "df_clean.select('platform').distinct().count()"
   ]
  },
  {
   "cell_type": "code",
   "execution_count": 62,
   "metadata": {},
   "outputs": [
    {
     "name": "stdout",
     "output_type": "stream",
     "text": [
      "+--------------+\n",
      "|      platform|\n",
      "+--------------+\n",
      "|          iPad|\n",
      "|           X11|\n",
      "|Windows NT 6.3|\n",
      "|        iPhone|\n",
      "|Windows NT 6.2|\n",
      "|     Macintosh|\n",
      "|Windows NT 5.1|\n",
      "|    compatible|\n",
      "|Windows NT 6.0|\n",
      "|Windows NT 6.1|\n",
      "+--------------+\n",
      "\n"
     ]
    }
   ],
   "source": [
    "df_clean.select('platform').distinct().show()"
   ]
  },
  {
   "cell_type": "code",
   "execution_count": 63,
   "metadata": {},
   "outputs": [
    {
     "data": {
      "image/png": "[encoded data removed]",
      "text/plain": [
       "<matplotlib.figure.Figure at 0x7fe76d4411d0>"
      ]
     },
     "metadata": {
      "needs_background": "light"
     },
     "output_type": "display_data"
    },
    {
     "data": {
      "text/plain": [
       "<matplotlib.figure.Figure at 0x7fe76d289358>"
      ]
     },
     "metadata": {},
     "output_type": "display_data"
    }
   ],
   "source": [
    "vis_dist_percentage(df_clean, 'state')"
   ]
  },
  {
   "cell_type": "code",
   "execution_count": 64,
   "metadata": {},
   "outputs": [
    {
     "data": {
      "image/png": "[encoded data removed]",
      "text/plain": [
       "<matplotlib.figure.Figure at 0x7fe76d40b748>"
      ]
     },
     "metadata": {
      "needs_background": "light"
     },
     "output_type": "display_data"
    },
    {
     "data": {
      "text/plain": [
       "<matplotlib.figure.Figure at 0x7fe76d2e7048>"
      ]
     },
     "metadata": {},
     "output_type": "display_data"
    }
   ],
   "source": [
    "vis_dist_percentage(df_clean, 'platform')"
   ]
  },
  {
   "cell_type": "markdown",
   "metadata": {},
   "source": [
    "We can observe some helpful patterns above. For the location-based distribution, it is interesting to find that users in some states like CO, MI, WA, MS, AL, OH, and KY contribute great to the churned group, while they contribute minor in the non-churned group.<br/>\n",
    "For the platform users used, the overall distribution is similar, one interesting finding is that users using iPad and Windows NT 6.0 didn't churn. The majority of the users use Macintosh and Windows NT 6.1."
   ]
  },
  {
   "cell_type": "markdown",
   "metadata": {},
   "source": [
    "After these direct observations from the data, the next step will be exploring aggregates on these two groups of users, observing how much of a specific action they experienced per a certain time unit or number of songs played."
   ]
  },
  {
   "cell_type": "code",
   "execution_count": 65,
   "metadata": {
    "scrolled": true
   },
   "outputs": [
    {
     "name": "stdout",
     "output_type": "stream",
     "text": [
      "max_time: 2018-12-03 01:11:16, min_time: 2018-10-01 00:01:57.\n"
     ]
    }
   ],
   "source": [
    "# Check the range of the time of the events\n",
    "max_time = df_clean.groupBy().max('ts').collect()[0][0]\n",
    "min_time = df_clean.groupBy().min('ts').collect()[0][0]\n",
    "print('max_time: {}, min_time: {}.'\n",
    "      .format(datetime.datetime.fromtimestamp(max_time / 1000).strftime('%Y-%m-%d %H:%M:%S'),\n",
    "              datetime.datetime.fromtimestamp(min_time / 1000).strftime('%Y-%m-%d %H:%M:%S')))"
   ]
  },
  {
   "cell_type": "markdown",
   "metadata": {},
   "source": [
    "It seems that all these data are collected in the time interval from October 2018 to the beginning of December 2018, we can analyze the pattern based on the hours, weekday, and month."
   ]
  },
  {
   "cell_type": "code",
   "execution_count": 66,
   "metadata": {},
   "outputs": [],
   "source": [
    "get_hour_udf = udf(lambda x: datetime.datetime.fromtimestamp(x / 1000).hour, IntegerType())\n",
    "get_weekday_udf = udf(lambda x: datetime.datetime.fromtimestamp(x / 1000).isoweekday(), IntegerType())\n",
    "get_month_udf = udf(lambda x: datetime.datetime.fromtimestamp(x / 1000).month, IntegerType())\n",
    "                    \n",
    "df_clean = df_clean.withColumn('hour', get_hour_udf('ts'))\n",
    "df_clean = df_clean.withColumn('weekday', get_weekday_udf('ts'))\n",
    "df_clean = df_clean.withColumn('month', get_month_udf('ts'))"
   ]
  },
  {
   "cell_type": "code",
   "execution_count": 67,
   "metadata": {},
   "outputs": [
    {
     "data": {
      "image/png": "[encoded data removed]",
      "text/plain": [
       "<matplotlib.figure.Figure at 0x7fe76d23c860>"
      ]
     },
     "metadata": {
      "needs_background": "light"
     },
     "output_type": "display_data"
    },
    {
     "data": {
      "text/plain": [
       "<matplotlib.figure.Figure at 0x7fe76d74a6a0>"
      ]
     },
     "metadata": {},
     "output_type": "display_data"
    }
   ],
   "source": [
    "vis_dist_percentage(df_clean, 'hour')"
   ]
  },
  {
   "cell_type": "code",
   "execution_count": 68,
   "metadata": {},
   "outputs": [
    {
     "data": {
      "image/png": "[encoded data removed]",
      "text/plain": [
       "<matplotlib.figure.Figure at 0x7fe76d456f28>"
      ]
     },
     "metadata": {
      "needs_background": "light"
     },
     "output_type": "display_data"
    },
    {
     "data": {
      "text/plain": [
       "<matplotlib.figure.Figure at 0x7fe76d1b6080>"
      ]
     },
     "metadata": {},
     "output_type": "display_data"
    }
   ],
   "source": [
    "vis_dist_percentage(df_clean, 'weekday')"
   ]
  },
  {
   "cell_type": "code",
   "execution_count": 69,
   "metadata": {},
   "outputs": [
    {
     "data": {
      "image/png": "[encoded data removed]",
      "text/plain": [
       "<matplotlib.figure.Figure at 0x7fe76d65ac88>"
      ]
     },
     "metadata": {
      "needs_background": "light"
     },
     "output_type": "display_data"
    },
    {
     "data": {
      "text/plain": [
       "<matplotlib.figure.Figure at 0x7fe76d443828>"
      ]
     },
     "metadata": {},
     "output_type": "display_data"
    }
   ],
   "source": [
    "vis_dist_percentage(df_clean, 'month')"
   ]
  },
  {
   "cell_type": "markdown",
   "metadata": {},
   "source": [
    "From the plots above, we can conclude that, for the distribution of events in different hours, the overall trend is similar for both groups of users and we don't observe a significant difference. One thing notable is that churned users have a generally higher tendancy to visit pages during the afternoon/evening than in the morning. The churned users are more active on Thursday and Friday while the other users are more active on Sunday. Although we can see a big difference of the distributions of the two groups of users in terms of months, there are only data in two months, this may not be so helpful."
   ]
  },
  {
   "cell_type": "markdown",
   "metadata": {},
   "source": [
    "For the numerical part, we want to explore if the total time listening to songs will affect churning. Also, the number of artist listened to, the number of sessions, and the number of days registered are of interests."
   ]
  },
  {
   "cell_type": "code",
   "execution_count": 70,
   "metadata": {},
   "outputs": [],
   "source": [
    "df_length = df_clean.select('userID', 'length').groupBy('userID').sum()\n",
    "df_length = df_length.withColumn('churn', is_churn_udf('userID'))\n",
    "df_length = df_length.toPandas()"
   ]
  },
  {
   "cell_type": "code",
   "execution_count": 71,
   "metadata": {},
   "outputs": [
    {
     "data": {
      "image/png": "[encoded data removed]",
      "text/plain": [
       "<matplotlib.figure.Figure at 0x7fe76d196e10>"
      ]
     },
     "metadata": {
      "needs_background": "light"
     },
     "output_type": "display_data"
    },
    {
     "data": {
      "text/plain": [
       "<matplotlib.figure.Figure at 0x7fe76d4a2e10>"
      ]
     },
     "metadata": {},
     "output_type": "display_data"
    }
   ],
   "source": [
    "fig, ax = plt.subplots(figsize=(8, 5))\n",
    "sns.kdeplot(df_length.loc[df_length['churn'] == 0, 'sum(length)'], color = 'steelblue')\n",
    "sns.kdeplot(df_length.loc[df_length['churn'] == 1, 'sum(length)'], color = 'darkorange')\n",
    "ax.set_ylabel('density', fontsize = 12)\n",
    "ax.set_xlabel('total time', fontsize = 12)\n",
    "ax.tick_params(axis='y', labelsize = 10)\n",
    "ax.tick_params(axis='x', labelsize = 10, rotation = -30)\n",
    "ax.legend(['churn 0', 'churn 1'], loc = 0, fontsize = 12)\n",
    "plt.show()\n",
    "plt.savefig('figs/total_time.png', dpi=300, bbox_inches='tight')"
   ]
  },
  {
   "cell_type": "code",
   "execution_count": 72,
   "metadata": {},
   "outputs": [],
   "source": [
    "def vis_dist_num(df, col):\n",
    "    '''\n",
    "    Function to visualize the distribution patterns in percentage based on two user groups in the dataset\n",
    "     \n",
    "    Args:\n",
    "        df: a spark Dataframe\n",
    "        col: a string, the name of the column to visualize\n",
    "        \n",
    "    Returns:\n",
    "        None\n",
    "    '''\n",
    "    \n",
    "    df_temp = df.dropDuplicates(['userID', col]).groupBy('userID').count()\n",
    "    df_temp = df_temp.withColumn('churn', is_churn_udf('userID'))\n",
    "    df_temp = df_temp.toPandas()\n",
    "    fig, ax = plt.subplots(figsize=(8, 5))\n",
    "    sns.kdeplot(df_temp.loc[df_temp['churn'] == 0, 'count'], color = 'steelblue')\n",
    "    sns.kdeplot(df_temp.loc[df_temp['churn'] == 1, 'count'], color = 'darkorange')\n",
    "    ax.set_ylabel('density', fontsize = 12)\n",
    "    ax.set_xlabel(col+' count', fontsize = 12)\n",
    "    ax.tick_params(axis='y', labelsize = 10)\n",
    "    ax.tick_params(axis='x', labelsize = 10, rotation = -30)\n",
    "    ax.legend(['churn 0', 'churn 1'], loc = 0, fontsize = 12)\n",
    "    plt.show()\n",
    "    plt.savefig('figs/%s_dist.png' % col, dpi=300, bbox_inches='tight')"
   ]
  },
  {
   "cell_type": "code",
   "execution_count": 73,
   "metadata": {},
   "outputs": [
    {
     "data": {
      "image/png": "[encoded data removed]",
      "text/plain": [
       "<matplotlib.figure.Figure at 0x7fe76d46ae80>"
      ]
     },
     "metadata": {
      "needs_background": "light"
     },
     "output_type": "display_data"
    },
    {
     "data": {
      "text/plain": [
       "<matplotlib.figure.Figure at 0x7fe76d317f60>"
      ]
     },
     "metadata": {},
     "output_type": "display_data"
    }
   ],
   "source": [
    "vis_dist_num(df_clean, 'artist')"
   ]
  },
  {
   "cell_type": "code",
   "execution_count": 74,
   "metadata": {},
   "outputs": [
    {
     "data": {
      "image/png": "[encoded data removed]",
      "text/plain": [
       "<matplotlib.figure.Figure at 0x7fe76d452630>"
      ]
     },
     "metadata": {
      "needs_background": "light"
     },
     "output_type": "display_data"
    },
    {
     "data": {
      "text/plain": [
       "<matplotlib.figure.Figure at 0x7fe76d150f98>"
      ]
     },
     "metadata": {},
     "output_type": "display_data"
    }
   ],
   "source": [
    "vis_dist_num(df_clean, 'sessionID')"
   ]
  },
  {
   "cell_type": "code",
   "execution_count": 75,
   "metadata": {
    "scrolled": false
   },
   "outputs": [
    {
     "name": "stdout",
     "output_type": "stream",
     "text": [
      "+------+------------------+\n",
      "|userID|           regDays|\n",
      "+------+------------------+\n",
      "|100010| 55.64365740740741|\n",
      "|200002| 70.07462962962963|\n",
      "|   125| 71.31688657407408|\n",
      "|   124|131.55591435185184|\n",
      "|    51|19.455844907407407|\n",
      "|     7| 72.77818287037037|\n",
      "|    15|56.513576388888886|\n",
      "|    54|110.75168981481481|\n",
      "|   155|23.556018518518517|\n",
      "|100014| 85.08340277777778|\n",
      "|   132|  66.8891087962963|\n",
      "|   154|23.872037037037035|\n",
      "|   101|        53.9659375|\n",
      "|    11|124.47825231481481|\n",
      "|   138| 66.62668981481481|\n",
      "|300017| 74.35851851851852|\n",
      "|100021| 64.73886574074074|\n",
      "|    29|60.104050925925925|\n",
      "|    69| 71.42444444444445|\n",
      "|   112| 87.46262731481481|\n",
      "+------+------------------+\n",
      "only showing top 20 rows\n",
      "\n"
     ]
    }
   ],
   "source": [
    "reg_time = df_clean.select('userID', 'registration').dropDuplicates()\n",
    "last_act = df_clean.select('userID', 'ts').groupBy('userID').max()\n",
    "reg_time = reg_time.join(last_act, 'userID')\n",
    "\n",
    "reg_time = reg_time.withColumn('regDays', \n",
    "                               (reg_time['max(ts)'] - reg_time['registration']) / (1000 * 60 * 60 * 24))\n",
    "reg_time = reg_time.drop('registration', 'max(ts)')\n",
    "\n",
    "reg_time.show()"
   ]
  },
  {
   "cell_type": "code",
   "execution_count": 76,
   "metadata": {
    "scrolled": false
   },
   "outputs": [
    {
     "data": {
      "image/png": "[encoded data removed]",
      "text/plain": [
       "<matplotlib.figure.Figure at 0x7fe76d6dd860>"
      ]
     },
     "metadata": {
      "needs_background": "light"
     },
     "output_type": "display_data"
    },
    {
     "data": {
      "text/plain": [
       "<matplotlib.figure.Figure at 0x7fe76d2aef98>"
      ]
     },
     "metadata": {},
     "output_type": "display_data"
    }
   ],
   "source": [
    "reg_time = reg_time.withColumn('churn', is_churn_udf('userID'))\n",
    "reg_time = reg_time.toPandas()\n",
    "fig, ax = plt.subplots(figsize=(8, 5))\n",
    "sns.kdeplot(reg_time.loc[reg_time['churn'] == 0, 'regDays'], color = 'steelblue')\n",
    "sns.kdeplot(reg_time.loc[reg_time['churn'] == 1, 'regDays'], color = 'darkorange')\n",
    "ax.set_ylabel('density', fontsize = 12)\n",
    "ax.set_xlabel('registered days', fontsize = 12)\n",
    "ax.tick_params(axis='y', labelsize = 10)\n",
    "ax.tick_params(axis='x', labelsize = 10, rotation = -30)\n",
    "ax.legend(['churn 0', 'churn 1'], loc = 0, fontsize = 12)\n",
    "plt.show()\n",
    "plt.savefig('figs/registered_days.png', dpi=300, bbox_inches='tight')"
   ]
  },
  {
   "cell_type": "markdown",
   "metadata": {},
   "source": [
    "It is clearly shown above that the two groups of users show different behaviors in the total time spent on listening to songs, the number of artist listened to, the number of sessions, and the number of days registered."
   ]
  },
  {
   "cell_type": "markdown",
   "metadata": {},
   "source": [
    "# Feature Engineering\n",
    "With the EDA above, we have observed several useful features which can be used in training the model to predict churning, including both the numerical and categorical features.\n",
    "Right now, we will consider the following features:<br/>\n",
    "Categorical:\n",
    "* Gender\n",
    "* Level\n",
    "* Platform\n",
    "* State\n",
    "\n",
    "Numerical:\n",
    "* Total time on listening to songs\n",
    "* Number of sessions\n",
    "* Number of total events\n",
    "* Number of `Thumbs Up` events (since we know the total number of events, the model is knowledgeable of the ratio)\n",
    "* Number of `Thumbs Down` events\n",
    "* Number of `Add Friend` events\n",
    "* Number of `Add to Playlist` events\n",
    "* Number of `Roll Advert` events\n",
    "* Number of `NextSong` events\n",
    "* Ratio of events in the first half of the day\n",
    "* Number of artists listened to\n",
    "* Time since registration"
   ]
  },
  {
   "cell_type": "markdown",
   "metadata": {},
   "source": [
    "### Categorical Features\n",
    "* Gender\n",
    "* Level\n",
    "* Platform\n",
    "* State"
   ]
  },
  {
   "cell_type": "code",
   "execution_count": 77,
   "metadata": {},
   "outputs": [],
   "source": [
    "# Create the basic dataframe with the userID, gender, and churn column\n",
    "data = df_clean.dropDuplicates(['userID']).select('userID', 'gender', 'churn')"
   ]
  },
  {
   "cell_type": "code",
   "execution_count": 78,
   "metadata": {
    "scrolled": false
   },
   "outputs": [],
   "source": [
    "# Add the level, platform, and location (state) of the last activity of the user\n",
    "df_clean = df_clean.orderBy('userID', 'ts', ascending = False)\n",
    "df_cat = df_clean.dropDuplicates(['userID']).select('userID', 'level', 'platform', 'state')\n",
    "\n",
    "data = data.join(df_cat, 'userID')"
   ]
  },
  {
   "cell_type": "markdown",
   "metadata": {},
   "source": [
    "### Numerical Features\n",
    "* Time on listening to songs per event\n",
    "* Number of events per session\n",
    "* Number of total events\n",
    "* Ratio of `Thumbs Up` events (since we know the total number of events, the model is knowledgeable of the number of each events)\n",
    "* Ratio of `Thumbs Down` events\n",
    "* Ratio of `Add Friend` events\n",
    "* Ratio of `Add to Playlist` events\n",
    "* Ratio of `Roll Advert` events\n",
    "* Ratio of `NextSong` events\n",
    "* Number of artists listened to\n",
    "* Ratio of events in the first half of the day\n",
    "* Time since registration"
   ]
  },
  {
   "cell_type": "code",
   "execution_count": 79,
   "metadata": {},
   "outputs": [
    {
     "name": "stdout",
     "output_type": "stream",
     "text": [
      "+------+------------------+\n",
      "|userID|         totalTime|\n",
      "+------+------------------+\n",
      "|200002| 94008.87593999998|\n",
      "|100010| 66940.89735000003|\n",
      "|   125|         2089.1131|\n",
      "|     7|        38034.0871|\n",
      "|    51|523275.84279999946|\n",
      "+------+------------------+\n",
      "only showing top 5 rows\n",
      "\n"
     ]
    }
   ],
   "source": [
    "# Extract the total time of each user listening to songs\n",
    "df_time = df_clean.groupBy(['userID']).sum('length').withColumnRenamed('sum(length)', 'totalTime')\n",
    "\n",
    "df_time.show(5)"
   ]
  },
  {
   "cell_type": "code",
   "execution_count": 80,
   "metadata": {},
   "outputs": [
    {
     "name": "stdout",
     "output_type": "stream",
     "text": [
      "+------+-----------+\n",
      "|userID|numSessions|\n",
      "+------+-----------+\n",
      "|100010|          7|\n",
      "|200002|          6|\n",
      "|   125|          1|\n",
      "|    51|         10|\n",
      "|   124|         29|\n",
      "+------+-----------+\n",
      "only showing top 5 rows\n",
      "\n"
     ]
    }
   ],
   "source": [
    "# Extract the number of sessions of each user\n",
    "df_session = df_clean.dropDuplicates(['userID', 'sessionID']).groupBy('userID').count()\\\n",
    ".withColumnRenamed('count', 'numSessions')\n",
    "\n",
    "df_session.show(5)"
   ]
  },
  {
   "cell_type": "code",
   "execution_count": 81,
   "metadata": {},
   "outputs": [],
   "source": [
    "# Extract the number of events of each user\n",
    "def extract_events(df, col, event_name):\n",
    "    '''\n",
    "    '''\n",
    "    \n",
    "    df_event = df.filter(df[col] == event_name).groupBy('userID').count().\\\n",
    "    withColumnRenamed('count', 'num'+event_name.replace(' ', ''))\n",
    "    \n",
    "    return df_event"
   ]
  },
  {
   "cell_type": "code",
   "execution_count": 82,
   "metadata": {},
   "outputs": [],
   "source": [
    "events = ['Add Friend', 'Add to Playlist', 'NextSong', 'Roll Advert', 'Thumbs Down', 'Thumbs Up']\n",
    "\n",
    "for event in events:\n",
    "    df_temp = extract_events(df_clean, 'page', event)\n",
    "    data = data.join(extract_events(df_clean, 'page', event), 'userID')"
   ]
  },
  {
   "cell_type": "code",
   "execution_count": 83,
   "metadata": {},
   "outputs": [
    {
     "name": "stdout",
     "output_type": "stream",
     "text": [
      "+------+---------+\n",
      "|userID|numEvents|\n",
      "+------+---------+\n",
      "|200002|      474|\n",
      "|100010|      381|\n",
      "|   125|       11|\n",
      "|     7|      201|\n",
      "|    51|     2464|\n",
      "+------+---------+\n",
      "only showing top 5 rows\n",
      "\n"
     ]
    }
   ],
   "source": [
    "# Extract the total number of events of each user\n",
    "df_events = df_clean.groupBy('userID').count().withColumnRenamed('count', 'numEvents')\n",
    "\n",
    "df_events.show(5)"
   ]
  },
  {
   "cell_type": "code",
   "execution_count": 84,
   "metadata": {},
   "outputs": [
    {
     "name": "stdout",
     "output_type": "stream",
     "text": [
      "+------+------------+\n",
      "|userID|numFirstHalf|\n",
      "+------+------------+\n",
      "|200002|         113|\n",
      "|100010|         186|\n",
      "|   125|          11|\n",
      "|     7|         130|\n",
      "|    51|        1128|\n",
      "+------+------------+\n",
      "only showing top 5 rows\n",
      "\n"
     ]
    }
   ],
   "source": [
    "# Extract the number of events in the first half of the day\n",
    "df_hour = df_clean.filter((df_clean['hour'] >= 1) & (df_clean['hour'] <= 12)).groupBy('userID').count()\\\n",
    ".withColumnRenamed('count', 'numFirstHalf')\n",
    "\n",
    "df_hour.show(5)"
   ]
  },
  {
   "cell_type": "code",
   "execution_count": 85,
   "metadata": {},
   "outputs": [
    {
     "name": "stdout",
     "output_type": "stream",
     "text": [
      "+------+----------+\n",
      "|userID|numArtists|\n",
      "+------+----------+\n",
      "|200002|       340|\n",
      "|100010|       253|\n",
      "|   125|         9|\n",
      "|    51|      1386|\n",
      "|   124|      2233|\n",
      "+------+----------+\n",
      "only showing top 5 rows\n",
      "\n"
     ]
    }
   ],
   "source": [
    "# Extract the number of artists that each user listened to\n",
    "df_artist = df_clean.dropDuplicates(['userID', 'artist']).groupBy('userID').count()\\\n",
    ".withColumnRenamed('count', 'numArtists')\n",
    "\n",
    "df_artist.show(5)"
   ]
  },
  {
   "cell_type": "code",
   "execution_count": 86,
   "metadata": {},
   "outputs": [
    {
     "name": "stdout",
     "output_type": "stream",
     "text": [
      "+------+------------------+\n",
      "|userID|           regDays|\n",
      "+------+------------------+\n",
      "|100010| 55.64365740740741|\n",
      "|200002| 70.07462962962963|\n",
      "|   125| 71.31688657407408|\n",
      "|   124|131.55591435185184|\n",
      "|    51|19.455844907407407|\n",
      "+------+------------------+\n",
      "only showing top 5 rows\n",
      "\n"
     ]
    }
   ],
   "source": [
    "# Extract the time period since registration for each user\n",
    "df_reg = df_clean.select('userID', 'registration').dropDuplicates()\n",
    "last_ts = df_clean.select('userID', 'ts').groupBy('userID').max()\n",
    "df_reg = df_reg.join(last_ts, 'userID')\n",
    "\n",
    "df_reg = df_reg.withColumn('regDays', \n",
    "                           (df_reg['max(ts)'] - df_reg['registration']) / (1000 * 60 * 60 * 24))\n",
    "\n",
    "df_reg = df_reg.drop('registration', 'max(ts)')\n",
    "\n",
    "df_reg.show(5)"
   ]
  },
  {
   "cell_type": "code",
   "execution_count": 87,
   "metadata": {},
   "outputs": [],
   "source": [
    "# Combine these features\n",
    "for df_temp in [df_time, df_session, df_events, df_hour, df_artist, df_reg]:\n",
    "    data = data.join(df_temp, 'userID')"
   ]
  },
  {
   "cell_type": "code",
   "execution_count": 88,
   "metadata": {},
   "outputs": [],
   "source": [
    "# Tansform the numbers into ratios\n",
    "numCols = ['numAddFriend', 'numAddtoPlaylist', 'numNextSong', 'numRollAdvert', \n",
    "           'numThumbsDown', 'numThumbsUp', 'numFirstHalf', 'numArtists']\n",
    "\n",
    "for numCol in numCols:\n",
    "    data = data.withColumn('ratio' + numCol[3:], (data[numCol] / data['numEvents']))\n",
    "    data = data.drop(numCol)"
   ]
  },
  {
   "cell_type": "code",
   "execution_count": 89,
   "metadata": {},
   "outputs": [],
   "source": [
    "data = data.withColumn('numPerSession', (data['numEvents'] / data['numSessions']))\n",
    "data = data.withColumn('timePerEvent', (data['totalTime'] / data['numEvents']))\n",
    "data = data.drop('numSessions')\n",
    "data = data.drop('totalTime')"
   ]
  },
  {
   "cell_type": "markdown",
   "metadata": {},
   "source": [
    "Before proceeding, we first check if there's any missing data here and the correlations between all columns."
   ]
  },
  {
   "cell_type": "code",
   "execution_count": 90,
   "metadata": {},
   "outputs": [
    {
     "name": "stdout",
     "output_type": "stream",
     "text": [
      "+------+------+-----+-----+--------+-----+---------+-------+--------------+------------------+-------------+---------------+---------------+-------------+--------------+------------+-------------+------------+\n",
      "|userID|gender|churn|level|platform|state|numEvents|regDays|ratioAddFriend|ratioAddtoPlaylist|ratioNextSong|ratioRollAdvert|ratioThumbsDown|ratioThumbsUp|ratioFirstHalf|ratioArtists|numPerSession|timePerEvent|\n",
      "+------+------+-----+-----+--------+-----+---------+-------+--------------+------------------+-------------+---------------+---------------+-------------+--------------+------------+-------------+------------+\n",
      "|     0|     0|    0|    0|       0|    0|        0|      0|             0|                 0|            0|              0|              0|            0|             0|           0|            0|           0|\n",
      "+------+------+-----+-----+--------+-----+---------+-------+--------------+------------------+-------------+---------------+---------------+-------------+--------------+------------+-------------+------------+\n",
      "\n"
     ]
    }
   ],
   "source": [
    "from pyspark.sql.functions import isnan, when, count, col\n",
    "data.select([count(when(isnan(c) | col(c).isNull(), c)).alias(c) for c in data.columns]).show()"
   ]
  },
  {
   "cell_type": "code",
   "execution_count": 91,
   "metadata": {},
   "outputs": [
    {
     "name": "stdout",
     "output_type": "stream",
     "text": [
      "+------+------+-----+-----+--------------+-----+---------+------------------+--------------------+--------------------+------------------+--------------------+--------------------+-------------------+-------------------+------------------+------------------+------------------+\n",
      "|userID|gender|churn|level|platform      |state|numEvents|regDays           |ratioAddFriend      |ratioAddtoPlaylist  |ratioNextSong     |ratioRollAdvert     |ratioThumbsDown     |ratioThumbsUp      |ratioFirstHalf     |ratioArtists      |numPerSession     |timePerEvent      |\n",
      "+------+------+-----+-----+--------------+-----+---------+------------------+--------------------+--------------------+------------------+--------------------+--------------------+-------------------+-------------------+------------------+------------------+------------------+\n",
      "|100010|F     |0    |free |iPhone        |CT   |381      |55.64365740740741 |0.010498687664041995|0.01837270341207349 |0.7217847769028871|0.13648293963254593 |0.013123359580052493|0.04461942257217848|0.4881889763779528 |0.6640419947506562|54.42857142857143 |175.69789330708673|\n",
      "|200002|M     |0    |paid |iPhone        |IL   |474      |70.07462962962963 |0.008438818565400843|0.016877637130801686|0.8164556962025317|0.014767932489451477|0.012658227848101266|0.04430379746835443|0.23839662447257384|0.7172995780590717|79.0              |198.33096189873407|\n",
      "|124   |F     |0    |paid |Macintosh     |NJ   |4825     |131.55591435185184|0.01533678756476684 |0.0244559585492228  |0.8453886010362694|8.290155440414508E-4|0.00849740932642487 |0.03544041450777202|0.4039378238341969 |0.4627979274611399|166.3793103448276 |209.80561508601016|\n",
      "|7     |M     |0    |free |Windows NT 6.1|WA   |201      |72.77818287037037 |0.004975124378109453|0.024875621890547265|0.746268656716418 |0.07960199004975124 |0.004975124378109453|0.03482587064676617|0.6467661691542289 |0.7114427860696517|28.714285714285715|189.22431393034827|\n",
      "|15    |M     |0    |paid |Windows NT 6.1|WV   |2278     |56.513576388888886|0.013608428446005268|0.025899912203687446|0.8402107111501317|4.389815627743635E-4|0.006145741878841089|0.03555750658472344|0.35996488147497807|0.5719929762949956|151.86666666666667|209.5292387225637 |\n",
      "+------+------+-----+-----+--------------+-----+---------+------------------+--------------------+--------------------+------------------+--------------------+--------------------+-------------------+-------------------+------------------+------------------+------------------+\n",
      "only showing top 5 rows\n",
      "\n"
     ]
    }
   ],
   "source": [
    "data.show(5, False)"
   ]
  },
  {
   "cell_type": "code",
   "execution_count": 92,
   "metadata": {},
   "outputs": [
    {
     "data": {
      "image/png": "[encoded data removed]",
      "text/plain": [
       "<matplotlib.figure.Figure at 0x7fe76d257438>"
      ]
     },
     "metadata": {
      "needs_background": "light"
     },
     "output_type": "display_data"
    },
    {
     "data": {
      "text/plain": [
       "<matplotlib.figure.Figure at 0x7fe76d2579b0>"
      ]
     },
     "metadata": {},
     "output_type": "display_data"
    }
   ],
   "source": [
    "fig, ax = plt.subplots(figsize=(9, 9))\n",
    "ax = sns.heatmap(data.toPandas().corr(), cmap='RdBu', linewidths = 1, square = True, annot = True)\n",
    "plt.tight_layout()\n",
    "plt.show()\n",
    "plt.savefig('figs/corr.png', dpi=300, bbox_inches='tight')"
   ]
  },
  {
   "cell_type": "markdown",
   "metadata": {},
   "source": [
    "Looks good! There are only few pairs of features are highly correlated like ratioNextSong vs timePerEvent, ratioArtists vs numEvents, and ratioRollAdvert vs ratioNextSong."
   ]
  },
  {
   "cell_type": "code",
   "execution_count": 93,
   "metadata": {},
   "outputs": [],
   "source": [
    "# Save the dataframe\n",
    "data.write.csv('cleaned_data.csv', mode = 'overwrite', header = True)"
   ]
  },
  {
   "cell_type": "markdown",
   "metadata": {},
   "source": [
    "# Modeling\n",
    "With the features extracted, we are ready to train the model. In the following section, we'll start with creating a pipeline for preparation of data for modeling. After that, we'll divide the full dataset into the train and test sets. Several machine learning methods will be tested with parameters tuned and metrics evaluated. Due to the skewd distribution of churing, the F1 score will be used for model comparison."
   ]
  },
  {
   "cell_type": "markdown",
   "metadata": {},
   "source": [
    "### Data Preparation"
   ]
  },
  {
   "cell_type": "code",
   "execution_count": 94,
   "metadata": {},
   "outputs": [],
   "source": [
    "# Define the pipeline to create the training data\n",
    "\n",
    "# Create the one-hot encodings for the categorical features\n",
    "etl_stages = []\n",
    "\n",
    "categorical_cols = ['gender', 'level', 'platform', 'state']\n",
    "numerical_cols = [col for col in data.columns if col not in categorical_cols]\n",
    "numerical_cols.remove('churn')\n",
    "numerical_cols.remove('userID')\n",
    "\n",
    "for categorical_col in categorical_cols:\n",
    "    stringIndexer = StringIndexer(inputCol=categorical_col, outputCol=categorical_col + 'Index', \n",
    "                                  stringOrderType='alphabetDesc')\n",
    "    etl_stages.append(stringIndexer)\n",
    "    \n",
    "encoder = OneHotEncoderEstimator(inputCols=[col + 'Index' for col in categorical_cols], \n",
    "                                 outputCols=[col + 'Vec' for col in categorical_cols])\n",
    "etl_stages.append(encoder)\n",
    "\n",
    "# Combine all the features\n",
    "assembler = VectorAssembler(inputCols=[col + 'Vec' for col in categorical_cols] + numerical_cols,\n",
    "                            outputCol='features')\n",
    "etl_stages.append(assembler)\n",
    "\n",
    "# Create the pipeline\n",
    "etl_pipeline = Pipeline(stages=etl_stages)"
   ]
  },
  {
   "cell_type": "code",
   "execution_count": 95,
   "metadata": {},
   "outputs": [],
   "source": [
    "# Split the dataset into train and test sets\n",
    "data_cleaned = spark.read.csv('cleaned_data.csv', inferSchema = True, header=True)\n",
    "\n",
    "data_cleaned = etl_pipeline.fit(data_cleaned).transform(data_cleaned)\n",
    "\n",
    "train, test = data_cleaned.randomSplit([0.7, 0.3])"
   ]
  },
  {
   "cell_type": "code",
   "execution_count": 96,
   "metadata": {},
   "outputs": [],
   "source": [
    "# Initialize the random forest classifier for a trial fitting\n",
    "rf_trial = RandomForestClassifier(labelCol='churn', featuresCol='features', numTrees=5)\n",
    "model_trial = rf_trial.fit(train)"
   ]
  },
  {
   "cell_type": "code",
   "execution_count": 97,
   "metadata": {},
   "outputs": [
    {
     "name": "stdout",
     "output_type": "stream",
     "text": [
      "F1 score for the training data is 0.927.\n",
      "F1 score for the test data is 0.792.\n",
      "The accuracy for the training data is 0.977.\n",
      "The accuracy for the test data is 0.703.\n"
     ]
    }
   ],
   "source": [
    "# Check the metrics\n",
    "pred_train = model_trial.transform(train)\n",
    "pred_test = model_trial.transform(test)\n",
    "\n",
    "predictionAndLabels = pred_train.rdd.map(lambda lp: (float(lp.prediction), float(lp.churn)))\n",
    "print('F1 score for the training data is %.3f.' % (MulticlassMetrics(predictionAndLabels).fMeasure()))\n",
    "\n",
    "predictionAndLabels = pred_test.rdd.map(lambda lp: (float(lp.prediction), float(lp.churn)))\n",
    "print('F1 score for the test data is %.3f.' % (MulticlassMetrics(predictionAndLabels).fMeasure()))\n",
    "\n",
    "acc_eval = BinaryClassificationEvaluator(rawPredictionCol='rawPrediction', labelCol='churn')\n",
    "print('The accuracy for the training data is %.3f.' % (acc_eval.evaluate(pred_train)))\n",
    "print('The accuracy for the test data is %.3f.' % (acc_eval.evaluate(pred_test)))"
   ]
  },
  {
   "cell_type": "markdown",
   "metadata": {},
   "source": [
    "### Model selection\n",
    "With the data prepared, we're ready to test different models with the hyper-parameters tuned. Since we find that the distribution of the churn is skewed, the F1 score is used to choose between models."
   ]
  },
  {
   "cell_type": "code",
   "execution_count": 98,
   "metadata": {},
   "outputs": [],
   "source": [
    "# Logistic regression\n",
    "lr = LogisticRegression(labelCol='churn')\n",
    "\n",
    "# param_grid_lr = ParamGridBuilder() \\\n",
    "#     .baseOn({lr.labelCol: 'churn'}) \\\n",
    "#     .addGrid(lr.regParam, [0, 0.01, 0.03, 0.1, 0.3]) \\\n",
    "#     .addGrid(lr.elasticNetParam, [0, 0.1, 0.5]) \\\n",
    "#     .addGrid(lr.standardization, [True, False]) \\\n",
    "#     .addGrid(lr.aggregationDepth, [2, 5, 10]) \\\n",
    "#     .build()\n",
    "\n",
    "param_grid_lr = ParamGridBuilder() \\\n",
    "    .addGrid(lr.aggregationDepth, [2, 10]) \\\n",
    "    .addGrid(lr.elasticNetParam, [0, 0.3]) \\\n",
    "    .addGrid(lr.regParam, [0.01, 0.1, 0.3]) \\\n",
    "    .build()\n",
    "\n",
    "cv_lr = CrossValidator(estimator=lr, estimatorParamMaps=param_grid_lr, \n",
    "                       evaluator=MulticlassClassificationEvaluator(labelCol='churn'), \n",
    "                       numFolds=3, seed=35)\n",
    "\n",
    "lr_model = cv_lr.fit(train)"
   ]
  },
  {
   "cell_type": "code",
   "execution_count": 99,
   "metadata": {},
   "outputs": [],
   "source": [
    "def sum_models_performance(model, labels):\n",
    "    '''\n",
    "    Function to summarize the hyper-parameters with the scores for the models into a Dataframe\n",
    "     \n",
    "    Args:\n",
    "        model: a fitted CrossValidatorModel\n",
    "        labels: a list of strings, the name of the metric and the hyper-parameters\n",
    "        \n",
    "    Returns:\n",
    "        df: a Dataframe containing the hyper-parameters with the scores for the models\n",
    "    '''\n",
    "    \n",
    "    df_lists = []\n",
    "    \n",
    "    for i, grid in enumerate(model.getEstimatorParamMaps()):\n",
    "        df_list = []\n",
    "        df_list.append(model.avgMetrics[i])\n",
    "        for param in grid.values():\n",
    "            df_list.append(param)\n",
    "        df_lists.append(df_list)\n",
    "        \n",
    "    df = pd.DataFrame.from_records(df_lists, columns=labels)\n",
    "    return df"
   ]
  },
  {
   "cell_type": "code",
   "execution_count": 100,
   "metadata": {},
   "outputs": [],
   "source": [
    "def test_metrics(model):\n",
    "    '''\n",
    "    Function to check the performance of the best model on the test set\n",
    "     \n",
    "    Args:\n",
    "        model: a fitted CrossValidatorModel\n",
    "        \n",
    "    Returns:\n",
    "        None\n",
    "    '''\n",
    "    \n",
    "    pred = model.bestModel.transform(test)\n",
    "    \n",
    "    print('The F1 score for the test set is %.3f.' % MulticlassClassificationEvaluator(\n",
    "        predictionCol='prediction', labelCol='churn').evaluate(pred))\n",
    "    \n",
    "    print('The accuracy for the test set is %.3f.' % MulticlassClassificationEvaluator(\n",
    "        predictionCol='prediction', labelCol='churn', metricName='accuracy').evaluate(pred))"
   ]
  },
  {
   "cell_type": "code",
   "execution_count": 101,
   "metadata": {},
   "outputs": [],
   "source": [
    "# Visualize the confusion matirx\n",
    "def plot_cm(model, labels, normalize = False, title = None, cmap = plt.cm.Blues):\n",
    "    '''\n",
    "    Function to visualize the confusion matrix\n",
    "     \n",
    "    Args:\n",
    "        model: a fitted CrossValidatorModel\n",
    "        labels: a list of strings for the labels\n",
    "        normalize: Boolean, if normalize the confusion matrix (default: False)\n",
    "        title: the title for the plot (default: None)\n",
    "        cmap: color map for the confusion matrix (default: plt.cm.Blues)\n",
    "        \n",
    "    Returns:\n",
    "        None\n",
    "    '''\n",
    "    \n",
    "    if not title:\n",
    "        if normalize:\n",
    "            title = \"Confusion matrix with normalization\"\n",
    "        else:\n",
    "            title = \"Confusion matrix\"\n",
    "            \n",
    "    predictions = model.bestModel.transform(test)\n",
    "    predictionAndLabels = predictions.rdd.map(lambda lp: (float(lp.prediction), float(lp.churn)))\n",
    "    cm = MulticlassMetrics(predictionAndLabels).confusionMatrix().toArray()\n",
    "\n",
    "    if normalize:\n",
    "        cm = cm.astype('float') / cm.sum(axis = 1)[:, np.newaxis]\n",
    "        print(\"Normalized confusion matrix\")\n",
    "    else:\n",
    "        print('Confusion matrix without normalization')\n",
    "\n",
    "    print(cm)\n",
    "\n",
    "    fig, ax = plt.subplots(figsize = (15, 6))\n",
    "    im = ax.imshow(cm, interpolation = \"nearest\", cmap = cmap, aspect = 0.6)\n",
    "    ax.figure.colorbar(im, ax = ax)\n",
    "\n",
    "    ax.set(xticks = np.arange(cm.shape[1]),\n",
    "           yticks = np.arange(cm.shape[0]),\n",
    "           xticklabels = labels, \n",
    "           yticklabels = labels,\n",
    "           title = title,\n",
    "           ylabel = \"Actual\",\n",
    "           xlabel = \"Prediction\")\n",
    "\n",
    "    plt.setp(ax.get_xticklabels(), rotation = 0, ha = \"center\", rotation_mode = \"anchor\")\n",
    "\n",
    "    fmt = \".3f\" if normalize else \".1f\"\n",
    "    thresh = cm.max() / 2.\n",
    "    for i in range(cm.shape[0]):\n",
    "        for j in range(cm.shape[1]):\n",
    "            ax.text(j, i, format(cm[i, j], fmt),\n",
    "                    ha = \"center\", va = \"center\",\n",
    "                    color = \"white\" if cm[i, j] > thresh else \"black\")\n",
    "    fig.tight_layout()\n",
    "    \n",
    "    plt.show()\n",
    "    plt.savefig('figs/%s_cm.png' % model.bestModel, dpi=300, bbox_inches='tight')"
   ]
  },
  {
   "cell_type": "code",
   "execution_count": 102,
   "metadata": {},
   "outputs": [
    {
     "data": {
      "text/html": [
       "<div>\n",
       "<style scoped>\n",
       "    .dataframe tbody tr th:only-of-type {\n",
       "        vertical-align: middle;\n",
       "    }\n",
       "\n",
       "    .dataframe tbody tr th {\n",
       "        vertical-align: top;\n",
       "    }\n",
       "\n",
       "    .dataframe thead th {\n",
       "        text-align: right;\n",
       "    }\n",
       "</style>\n",
       "<table border=\"1\" class=\"dataframe\">\n",
       "  <thead>\n",
       "    <tr style=\"text-align: right;\">\n",
       "      <th></th>\n",
       "      <th>F1 score</th>\n",
       "      <th>regParam</th>\n",
       "      <th>elasticNetParam</th>\n",
       "      <th>aggregationDepth</th>\n",
       "    </tr>\n",
       "  </thead>\n",
       "  <tbody>\n",
       "    <tr>\n",
       "      <th>0</th>\n",
       "      <td>0.727588</td>\n",
       "      <td>2</td>\n",
       "      <td>0.0</td>\n",
       "      <td>0.01</td>\n",
       "    </tr>\n",
       "    <tr>\n",
       "      <th>1</th>\n",
       "      <td>0.709767</td>\n",
       "      <td>2</td>\n",
       "      <td>0.0</td>\n",
       "      <td>0.10</td>\n",
       "    </tr>\n",
       "    <tr>\n",
       "      <th>2</th>\n",
       "      <td>0.723758</td>\n",
       "      <td>2</td>\n",
       "      <td>0.0</td>\n",
       "      <td>0.30</td>\n",
       "    </tr>\n",
       "    <tr>\n",
       "      <th>3</th>\n",
       "      <td>0.735208</td>\n",
       "      <td>2</td>\n",
       "      <td>0.3</td>\n",
       "      <td>0.01</td>\n",
       "    </tr>\n",
       "    <tr>\n",
       "      <th>4</th>\n",
       "      <td>0.735683</td>\n",
       "      <td>2</td>\n",
       "      <td>0.3</td>\n",
       "      <td>0.10</td>\n",
       "    </tr>\n",
       "    <tr>\n",
       "      <th>5</th>\n",
       "      <td>0.713072</td>\n",
       "      <td>2</td>\n",
       "      <td>0.3</td>\n",
       "      <td>0.30</td>\n",
       "    </tr>\n",
       "    <tr>\n",
       "      <th>6</th>\n",
       "      <td>0.727588</td>\n",
       "      <td>10</td>\n",
       "      <td>0.0</td>\n",
       "      <td>0.01</td>\n",
       "    </tr>\n",
       "    <tr>\n",
       "      <th>7</th>\n",
       "      <td>0.709767</td>\n",
       "      <td>10</td>\n",
       "      <td>0.0</td>\n",
       "      <td>0.10</td>\n",
       "    </tr>\n",
       "    <tr>\n",
       "      <th>8</th>\n",
       "      <td>0.723758</td>\n",
       "      <td>10</td>\n",
       "      <td>0.0</td>\n",
       "      <td>0.30</td>\n",
       "    </tr>\n",
       "    <tr>\n",
       "      <th>9</th>\n",
       "      <td>0.735208</td>\n",
       "      <td>10</td>\n",
       "      <td>0.3</td>\n",
       "      <td>0.01</td>\n",
       "    </tr>\n",
       "    <tr>\n",
       "      <th>10</th>\n",
       "      <td>0.735683</td>\n",
       "      <td>10</td>\n",
       "      <td>0.3</td>\n",
       "      <td>0.10</td>\n",
       "    </tr>\n",
       "    <tr>\n",
       "      <th>11</th>\n",
       "      <td>0.713072</td>\n",
       "      <td>10</td>\n",
       "      <td>0.3</td>\n",
       "      <td>0.30</td>\n",
       "    </tr>\n",
       "  </tbody>\n",
       "</table>\n",
       "</div>"
      ],
      "text/plain": [
       "    F1 score  regParam  elasticNetParam  aggregationDepth\n",
       "0   0.727588         2              0.0              0.01\n",
       "1   0.709767         2              0.0              0.10\n",
       "2   0.723758         2              0.0              0.30\n",
       "3   0.735208         2              0.3              0.01\n",
       "4   0.735683         2              0.3              0.10\n",
       "5   0.713072         2              0.3              0.30\n",
       "6   0.727588        10              0.0              0.01\n",
       "7   0.709767        10              0.0              0.10\n",
       "8   0.723758        10              0.0              0.30\n",
       "9   0.735208        10              0.3              0.01\n",
       "10  0.735683        10              0.3              0.10\n",
       "11  0.713072        10              0.3              0.30"
      ]
     },
     "execution_count": 102,
     "metadata": {},
     "output_type": "execute_result"
    }
   ],
   "source": [
    "sum_models_performance(lr_model, ['F1 score', 'regParam', 'elasticNetParam', 'aggregationDepth'])"
   ]
  },
  {
   "cell_type": "code",
   "execution_count": 103,
   "metadata": {},
   "outputs": [
    {
     "name": "stdout",
     "output_type": "stream",
     "text": [
      "The F1 score for the test set is 0.654.\n",
      "The accuracy for the test set is 0.736.\n"
     ]
    }
   ],
   "source": [
    "test_metrics(lr_model)"
   ]
  },
  {
   "cell_type": "code",
   "execution_count": 104,
   "metadata": {},
   "outputs": [
    {
     "name": "stdout",
     "output_type": "stream",
     "text": [
      "Normalized confusion matrix\n",
      "[[ 0.97435897  0.02564103]\n",
      " [ 0.92857143  0.07142857]]\n"
     ]
    },
    {
     "data": {
      "image/png": "[encoded data removed]",
      "text/plain": [
       "<matplotlib.figure.Figure at 0x7fe76d556710>"
      ]
     },
     "metadata": {
      "needs_background": "light"
     },
     "output_type": "display_data"
    },
    {
     "data": {
      "text/plain": [
       "<matplotlib.figure.Figure at 0x7fe76d5dd3c8>"
      ]
     },
     "metadata": {},
     "output_type": "display_data"
    }
   ],
   "source": [
    "plot_cm(lr_model, labels = [\"0\", \"1\"], normalize = True)"
   ]
  },
  {
   "cell_type": "code",
   "execution_count": 105,
   "metadata": {},
   "outputs": [],
   "source": [
    "# Random Forest\n",
    "rf = RandomForestClassifier(labelCol='churn')\n",
    "\n",
    "param_grid_rf = ParamGridBuilder() \\\n",
    "    .addGrid(rf.featureSubsetStrategy, ['sqrt', 'all']) \\\n",
    "    .addGrid(rf.impurity, ['entropy', 'gini']) \\\n",
    "    .addGrid(rf.maxDepth, [5, 10]) \\\n",
    "    .addGrid(rf.numTrees, [10, 20]) \\\n",
    "    .build()\n",
    "\n",
    "cv_rf = CrossValidator(estimator=rf, estimatorParamMaps=param_grid_rf, \n",
    "                       evaluator=MulticlassClassificationEvaluator(labelCol='churn'), \n",
    "                       numFolds=3, seed=35)\n",
    "\n",
    "rf_model = cv_rf.fit(train)"
   ]
  },
  {
   "cell_type": "code",
   "execution_count": 106,
   "metadata": {},
   "outputs": [
    {
     "data": {
      "text/html": [
       "<div>\n",
       "<style scoped>\n",
       "    .dataframe tbody tr th:only-of-type {\n",
       "        vertical-align: middle;\n",
       "    }\n",
       "\n",
       "    .dataframe tbody tr th {\n",
       "        vertical-align: top;\n",
       "    }\n",
       "\n",
       "    .dataframe thead th {\n",
       "        text-align: right;\n",
       "    }\n",
       "</style>\n",
       "<table border=\"1\" class=\"dataframe\">\n",
       "  <thead>\n",
       "    <tr style=\"text-align: right;\">\n",
       "      <th></th>\n",
       "      <th>F1 score</th>\n",
       "      <th>featureSubsetStrategy</th>\n",
       "      <th>impurity</th>\n",
       "      <th>maxDepth</th>\n",
       "      <th>numTrees</th>\n",
       "    </tr>\n",
       "  </thead>\n",
       "  <tbody>\n",
       "    <tr>\n",
       "      <th>0</th>\n",
       "      <td>0.747620</td>\n",
       "      <td>sqrt</td>\n",
       "      <td>entropy</td>\n",
       "      <td>5</td>\n",
       "      <td>10</td>\n",
       "    </tr>\n",
       "    <tr>\n",
       "      <th>1</th>\n",
       "      <td>0.780343</td>\n",
       "      <td>sqrt</td>\n",
       "      <td>entropy</td>\n",
       "      <td>5</td>\n",
       "      <td>20</td>\n",
       "    </tr>\n",
       "    <tr>\n",
       "      <th>2</th>\n",
       "      <td>0.747115</td>\n",
       "      <td>sqrt</td>\n",
       "      <td>entropy</td>\n",
       "      <td>10</td>\n",
       "      <td>10</td>\n",
       "    </tr>\n",
       "    <tr>\n",
       "      <th>3</th>\n",
       "      <td>0.765393</td>\n",
       "      <td>sqrt</td>\n",
       "      <td>entropy</td>\n",
       "      <td>10</td>\n",
       "      <td>20</td>\n",
       "    </tr>\n",
       "    <tr>\n",
       "      <th>4</th>\n",
       "      <td>0.749935</td>\n",
       "      <td>sqrt</td>\n",
       "      <td>gini</td>\n",
       "      <td>5</td>\n",
       "      <td>10</td>\n",
       "    </tr>\n",
       "    <tr>\n",
       "      <th>5</th>\n",
       "      <td>0.753790</td>\n",
       "      <td>sqrt</td>\n",
       "      <td>gini</td>\n",
       "      <td>5</td>\n",
       "      <td>20</td>\n",
       "    </tr>\n",
       "    <tr>\n",
       "      <th>6</th>\n",
       "      <td>0.750459</td>\n",
       "      <td>sqrt</td>\n",
       "      <td>gini</td>\n",
       "      <td>10</td>\n",
       "      <td>10</td>\n",
       "    </tr>\n",
       "    <tr>\n",
       "      <th>7</th>\n",
       "      <td>0.740382</td>\n",
       "      <td>sqrt</td>\n",
       "      <td>gini</td>\n",
       "      <td>10</td>\n",
       "      <td>20</td>\n",
       "    </tr>\n",
       "    <tr>\n",
       "      <th>8</th>\n",
       "      <td>0.843216</td>\n",
       "      <td>all</td>\n",
       "      <td>entropy</td>\n",
       "      <td>5</td>\n",
       "      <td>10</td>\n",
       "    </tr>\n",
       "    <tr>\n",
       "      <th>9</th>\n",
       "      <td>0.844269</td>\n",
       "      <td>all</td>\n",
       "      <td>entropy</td>\n",
       "      <td>5</td>\n",
       "      <td>20</td>\n",
       "    </tr>\n",
       "    <tr>\n",
       "      <th>10</th>\n",
       "      <td>0.843216</td>\n",
       "      <td>all</td>\n",
       "      <td>entropy</td>\n",
       "      <td>10</td>\n",
       "      <td>10</td>\n",
       "    </tr>\n",
       "    <tr>\n",
       "      <th>11</th>\n",
       "      <td>0.834744</td>\n",
       "      <td>all</td>\n",
       "      <td>entropy</td>\n",
       "      <td>10</td>\n",
       "      <td>20</td>\n",
       "    </tr>\n",
       "    <tr>\n",
       "      <th>12</th>\n",
       "      <td>0.852556</td>\n",
       "      <td>all</td>\n",
       "      <td>gini</td>\n",
       "      <td>5</td>\n",
       "      <td>10</td>\n",
       "    </tr>\n",
       "    <tr>\n",
       "      <th>13</th>\n",
       "      <td>0.817874</td>\n",
       "      <td>all</td>\n",
       "      <td>gini</td>\n",
       "      <td>5</td>\n",
       "      <td>20</td>\n",
       "    </tr>\n",
       "    <tr>\n",
       "      <th>14</th>\n",
       "      <td>0.858912</td>\n",
       "      <td>all</td>\n",
       "      <td>gini</td>\n",
       "      <td>10</td>\n",
       "      <td>10</td>\n",
       "    </tr>\n",
       "    <tr>\n",
       "      <th>15</th>\n",
       "      <td>0.822906</td>\n",
       "      <td>all</td>\n",
       "      <td>gini</td>\n",
       "      <td>10</td>\n",
       "      <td>20</td>\n",
       "    </tr>\n",
       "  </tbody>\n",
       "</table>\n",
       "</div>"
      ],
      "text/plain": [
       "    F1 score featureSubsetStrategy impurity  maxDepth  numTrees\n",
       "0   0.747620                  sqrt  entropy         5        10\n",
       "1   0.780343                  sqrt  entropy         5        20\n",
       "2   0.747115                  sqrt  entropy        10        10\n",
       "3   0.765393                  sqrt  entropy        10        20\n",
       "4   0.749935                  sqrt     gini         5        10\n",
       "5   0.753790                  sqrt     gini         5        20\n",
       "6   0.750459                  sqrt     gini        10        10\n",
       "7   0.740382                  sqrt     gini        10        20\n",
       "8   0.843216                   all  entropy         5        10\n",
       "9   0.844269                   all  entropy         5        20\n",
       "10  0.843216                   all  entropy        10        10\n",
       "11  0.834744                   all  entropy        10        20\n",
       "12  0.852556                   all     gini         5        10\n",
       "13  0.817874                   all     gini         5        20\n",
       "14  0.858912                   all     gini        10        10\n",
       "15  0.822906                   all     gini        10        20"
      ]
     },
     "execution_count": 106,
     "metadata": {},
     "output_type": "execute_result"
    }
   ],
   "source": [
    "sum_models_performance(rf_model, ['F1 score', 'featureSubsetStrategy', 'impurity', 'maxDepth', 'numTrees'])"
   ]
  },
  {
   "cell_type": "code",
   "execution_count": 107,
   "metadata": {},
   "outputs": [
    {
     "name": "stdout",
     "output_type": "stream",
     "text": [
      "The F1 score for the test set is 0.751.\n",
      "The accuracy for the test set is 0.774.\n"
     ]
    }
   ],
   "source": [
    "test_metrics(rf_model)"
   ]
  },
  {
   "cell_type": "code",
   "execution_count": 108,
   "metadata": {},
   "outputs": [
    {
     "name": "stdout",
     "output_type": "stream",
     "text": [
      "Normalized confusion matrix\n",
      "[[ 0.92307692  0.07692308]\n",
      " [ 0.64285714  0.35714286]]\n"
     ]
    },
    {
     "data": {
      "image/png": "[encoded data removed]",
      "text/plain": [
       "<matplotlib.figure.Figure at 0x7fe76d5f8a90>"
      ]
     },
     "metadata": {
      "needs_background": "light"
     },
     "output_type": "display_data"
    },
    {
     "data": {
      "text/plain": [
       "<matplotlib.figure.Figure at 0x7fe76d2a7a90>"
      ]
     },
     "metadata": {},
     "output_type": "display_data"
    }
   ],
   "source": [
    "plot_cm(rf_model, labels = [\"0\", \"1\"], normalize = True)"
   ]
  },
  {
   "cell_type": "code",
   "execution_count": 109,
   "metadata": {},
   "outputs": [],
   "source": [
    "# Gradient Boosting Trees\n",
    "gbt = GBTClassifier(labelCol='churn')\n",
    "\n",
    "param_grid_gbt = ParamGridBuilder() \\\n",
    "    .addGrid(gbt.featureSubsetStrategy, ['sqrt', 'all']) \\\n",
    "    .addGrid(gbt.maxIter, [10, 20]) \\\n",
    "    .addGrid(gbt.maxDepth, [5, 10]) \\\n",
    "    .addGrid(gbt.stepSize, [0.1, 0.3]) \\\n",
    "    .build()\n",
    "\n",
    "cv_gbt = CrossValidator(estimator=gbt, estimatorParamMaps=param_grid_gbt, \n",
    "                        evaluator=MulticlassClassificationEvaluator(labelCol='churn'), \n",
    "                        numFolds=3, seed=35)\n",
    "\n",
    "gbt_model = cv_gbt.fit(train)"
   ]
  },
  {
   "cell_type": "code",
   "execution_count": 110,
   "metadata": {},
   "outputs": [
    {
     "data": {
      "text/html": [
       "<div>\n",
       "<style scoped>\n",
       "    .dataframe tbody tr th:only-of-type {\n",
       "        vertical-align: middle;\n",
       "    }\n",
       "\n",
       "    .dataframe tbody tr th {\n",
       "        vertical-align: top;\n",
       "    }\n",
       "\n",
       "    .dataframe thead th {\n",
       "        text-align: right;\n",
       "    }\n",
       "</style>\n",
       "<table border=\"1\" class=\"dataframe\">\n",
       "  <thead>\n",
       "    <tr style=\"text-align: right;\">\n",
       "      <th></th>\n",
       "      <th>F1 score</th>\n",
       "      <th>featureSubsetStrategy</th>\n",
       "      <th>maxIter</th>\n",
       "      <th>maxDepth</th>\n",
       "      <th>stepSize</th>\n",
       "    </tr>\n",
       "  </thead>\n",
       "  <tbody>\n",
       "    <tr>\n",
       "      <th>0</th>\n",
       "      <td>0.758980</td>\n",
       "      <td>sqrt</td>\n",
       "      <td>10</td>\n",
       "      <td>5</td>\n",
       "      <td>0.1</td>\n",
       "    </tr>\n",
       "    <tr>\n",
       "      <th>1</th>\n",
       "      <td>0.769795</td>\n",
       "      <td>sqrt</td>\n",
       "      <td>10</td>\n",
       "      <td>5</td>\n",
       "      <td>0.3</td>\n",
       "    </tr>\n",
       "    <tr>\n",
       "      <th>2</th>\n",
       "      <td>0.747458</td>\n",
       "      <td>sqrt</td>\n",
       "      <td>10</td>\n",
       "      <td>10</td>\n",
       "      <td>0.1</td>\n",
       "    </tr>\n",
       "    <tr>\n",
       "      <th>3</th>\n",
       "      <td>0.747458</td>\n",
       "      <td>sqrt</td>\n",
       "      <td>10</td>\n",
       "      <td>10</td>\n",
       "      <td>0.3</td>\n",
       "    </tr>\n",
       "    <tr>\n",
       "      <th>4</th>\n",
       "      <td>0.765964</td>\n",
       "      <td>sqrt</td>\n",
       "      <td>20</td>\n",
       "      <td>5</td>\n",
       "      <td>0.1</td>\n",
       "    </tr>\n",
       "    <tr>\n",
       "      <th>5</th>\n",
       "      <td>0.769795</td>\n",
       "      <td>sqrt</td>\n",
       "      <td>20</td>\n",
       "      <td>5</td>\n",
       "      <td>0.3</td>\n",
       "    </tr>\n",
       "    <tr>\n",
       "      <th>6</th>\n",
       "      <td>0.747458</td>\n",
       "      <td>sqrt</td>\n",
       "      <td>20</td>\n",
       "      <td>10</td>\n",
       "      <td>0.1</td>\n",
       "    </tr>\n",
       "    <tr>\n",
       "      <th>7</th>\n",
       "      <td>0.752031</td>\n",
       "      <td>sqrt</td>\n",
       "      <td>20</td>\n",
       "      <td>10</td>\n",
       "      <td>0.3</td>\n",
       "    </tr>\n",
       "    <tr>\n",
       "      <th>8</th>\n",
       "      <td>0.797801</td>\n",
       "      <td>all</td>\n",
       "      <td>10</td>\n",
       "      <td>5</td>\n",
       "      <td>0.1</td>\n",
       "    </tr>\n",
       "    <tr>\n",
       "      <th>9</th>\n",
       "      <td>0.797801</td>\n",
       "      <td>all</td>\n",
       "      <td>10</td>\n",
       "      <td>5</td>\n",
       "      <td>0.3</td>\n",
       "    </tr>\n",
       "    <tr>\n",
       "      <th>10</th>\n",
       "      <td>0.797801</td>\n",
       "      <td>all</td>\n",
       "      <td>10</td>\n",
       "      <td>10</td>\n",
       "      <td>0.1</td>\n",
       "    </tr>\n",
       "    <tr>\n",
       "      <th>11</th>\n",
       "      <td>0.797801</td>\n",
       "      <td>all</td>\n",
       "      <td>10</td>\n",
       "      <td>10</td>\n",
       "      <td>0.3</td>\n",
       "    </tr>\n",
       "    <tr>\n",
       "      <th>12</th>\n",
       "      <td>0.797801</td>\n",
       "      <td>all</td>\n",
       "      <td>20</td>\n",
       "      <td>5</td>\n",
       "      <td>0.1</td>\n",
       "    </tr>\n",
       "    <tr>\n",
       "      <th>13</th>\n",
       "      <td>0.797801</td>\n",
       "      <td>all</td>\n",
       "      <td>20</td>\n",
       "      <td>5</td>\n",
       "      <td>0.3</td>\n",
       "    </tr>\n",
       "    <tr>\n",
       "      <th>14</th>\n",
       "      <td>0.797801</td>\n",
       "      <td>all</td>\n",
       "      <td>20</td>\n",
       "      <td>10</td>\n",
       "      <td>0.1</td>\n",
       "    </tr>\n",
       "    <tr>\n",
       "      <th>15</th>\n",
       "      <td>0.797801</td>\n",
       "      <td>all</td>\n",
       "      <td>20</td>\n",
       "      <td>10</td>\n",
       "      <td>0.3</td>\n",
       "    </tr>\n",
       "  </tbody>\n",
       "</table>\n",
       "</div>"
      ],
      "text/plain": [
       "    F1 score featureSubsetStrategy  maxIter  maxDepth  stepSize\n",
       "0   0.758980                  sqrt       10         5       0.1\n",
       "1   0.769795                  sqrt       10         5       0.3\n",
       "2   0.747458                  sqrt       10        10       0.1\n",
       "3   0.747458                  sqrt       10        10       0.3\n",
       "4   0.765964                  sqrt       20         5       0.1\n",
       "5   0.769795                  sqrt       20         5       0.3\n",
       "6   0.747458                  sqrt       20        10       0.1\n",
       "7   0.752031                  sqrt       20        10       0.3\n",
       "8   0.797801                   all       10         5       0.1\n",
       "9   0.797801                   all       10         5       0.3\n",
       "10  0.797801                   all       10        10       0.1\n",
       "11  0.797801                   all       10        10       0.3\n",
       "12  0.797801                   all       20         5       0.1\n",
       "13  0.797801                   all       20         5       0.3\n",
       "14  0.797801                   all       20        10       0.1\n",
       "15  0.797801                   all       20        10       0.3"
      ]
     },
     "execution_count": 110,
     "metadata": {},
     "output_type": "execute_result"
    }
   ],
   "source": [
    "sum_models_performance(gbt_model, ['F1 score', 'featureSubsetStrategy', 'maxIter', 'maxDepth', 'stepSize'])"
   ]
  },
  {
   "cell_type": "code",
   "execution_count": 111,
   "metadata": {},
   "outputs": [
    {
     "name": "stdout",
     "output_type": "stream",
     "text": [
      "The F1 score for the test set is 0.683.\n",
      "The accuracy for the test set is 0.679.\n"
     ]
    }
   ],
   "source": [
    "test_metrics(gbt_model)"
   ]
  },
  {
   "cell_type": "code",
   "execution_count": 112,
   "metadata": {},
   "outputs": [
    {
     "name": "stdout",
     "output_type": "stream",
     "text": [
      "Normalized confusion matrix\n",
      "[[ 0.76923077  0.23076923]\n",
      " [ 0.57142857  0.42857143]]\n"
     ]
    },
    {
     "data": {
      "image/png": "[encoded data removed]",
      "text/plain": [
       "<matplotlib.figure.Figure at 0x7fe76d29fc50>"
      ]
     },
     "metadata": {
      "needs_background": "light"
     },
     "output_type": "display_data"
    },
    {
     "data": {
      "text/plain": [
       "<matplotlib.figure.Figure at 0x7fe76d5ec470>"
      ]
     },
     "metadata": {},
     "output_type": "display_data"
    }
   ],
   "source": [
    "plot_cm(gbt_model, labels = [\"0\", \"1\"], normalize = True)"
   ]
  },
  {
   "cell_type": "code",
   "execution_count": 113,
   "metadata": {
    "scrolled": false
   },
   "outputs": [],
   "source": [
    "# Naive Bayes\n",
    "nb = NaiveBayes(labelCol='churn')\n",
    "\n",
    "param_grid_nb = ParamGridBuilder() \\\n",
    "    .addGrid(nb.smoothing, [0, 1, 5]) \\\n",
    "    .build()\n",
    "\n",
    "cv_nb = CrossValidator(estimator=nb, estimatorParamMaps=param_grid_nb, \n",
    "                       evaluator=MulticlassClassificationEvaluator(labelCol='churn'), \n",
    "                       numFolds=3, seed=35)\n",
    "\n",
    "nb_model = cv_nb.fit(train)"
   ]
  },
  {
   "cell_type": "code",
   "execution_count": 114,
   "metadata": {},
   "outputs": [
    {
     "data": {
      "text/html": [
       "<div>\n",
       "<style scoped>\n",
       "    .dataframe tbody tr th:only-of-type {\n",
       "        vertical-align: middle;\n",
       "    }\n",
       "\n",
       "    .dataframe tbody tr th {\n",
       "        vertical-align: top;\n",
       "    }\n",
       "\n",
       "    .dataframe thead th {\n",
       "        text-align: right;\n",
       "    }\n",
       "</style>\n",
       "<table border=\"1\" class=\"dataframe\">\n",
       "  <thead>\n",
       "    <tr style=\"text-align: right;\">\n",
       "      <th></th>\n",
       "      <th>F1 score</th>\n",
       "      <th>smoothing</th>\n",
       "    </tr>\n",
       "  </thead>\n",
       "  <tbody>\n",
       "    <tr>\n",
       "      <th>0</th>\n",
       "      <td>0.687572</td>\n",
       "      <td>0.0</td>\n",
       "    </tr>\n",
       "    <tr>\n",
       "      <th>1</th>\n",
       "      <td>0.606974</td>\n",
       "      <td>1.0</td>\n",
       "    </tr>\n",
       "    <tr>\n",
       "      <th>2</th>\n",
       "      <td>0.655926</td>\n",
       "      <td>5.0</td>\n",
       "    </tr>\n",
       "  </tbody>\n",
       "</table>\n",
       "</div>"
      ],
      "text/plain": [
       "   F1 score  smoothing\n",
       "0  0.687572        0.0\n",
       "1  0.606974        1.0\n",
       "2  0.655926        5.0"
      ]
     },
     "execution_count": 114,
     "metadata": {},
     "output_type": "execute_result"
    }
   ],
   "source": [
    "sum_models_performance(nb_model, ['F1 score', 'smoothing'])"
   ]
  },
  {
   "cell_type": "code",
   "execution_count": 115,
   "metadata": {},
   "outputs": [
    {
     "name": "stdout",
     "output_type": "stream",
     "text": [
      "The F1 score for the test set is 0.720.\n",
      "The accuracy for the test set is 0.717.\n"
     ]
    }
   ],
   "source": [
    "test_metrics(nb_model)"
   ]
  },
  {
   "cell_type": "code",
   "execution_count": 116,
   "metadata": {},
   "outputs": [
    {
     "name": "stdout",
     "output_type": "stream",
     "text": [
      "Normalized confusion matrix\n",
      "[[ 0.79487179  0.20512821]\n",
      " [ 0.5         0.5       ]]\n"
     ]
    },
    {
     "data": {
      "image/png": "[encoded data removed]",
      "text/plain": [
       "<matplotlib.figure.Figure at 0x7fe76d58f400>"
      ]
     },
     "metadata": {
      "needs_background": "light"
     },
     "output_type": "display_data"
    },
    {
     "data": {
      "text/plain": [
       "<matplotlib.figure.Figure at 0x7fe76c40dfd0>"
      ]
     },
     "metadata": {},
     "output_type": "display_data"
    }
   ],
   "source": [
    "plot_cm(nb_model, labels = [\"0\", \"1\"], normalize = True)"
   ]
  }
 ],
 "metadata": {
  "kernelspec": {
   "display_name": "Python 3",
   "language": "python",
   "name": "python3"
  },
  "language_info": {
   "codemirror_mode": {
    "name": "ipython",
    "version": 3
   },
   "file_extension": ".py",
   "mimetype": "text/x-python",
   "name": "python",
   "nbconvert_exporter": "python",
   "pygments_lexer": "ipython3",
   "version": "3.6.3"
  }
 },
 "nbformat": 4,
 "nbformat_minor": 2
}
